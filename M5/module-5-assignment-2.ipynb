{
 "cells": [
  {
   "cell_type": "markdown",
   "metadata": {},
   "source": [
    "# Module 5: Assignment 2\n",
    "------------------------"
   ]
  },
  {
   "cell_type": "markdown",
   "metadata": {},
   "source": [
    "Run-length encoding (RLE) is a form of lossless data compression in which runs of data (sequences in which the same data value occurs in many consecutive data elements) are stored as a single data value and count, rather than as the original run. For example,\n",
    "\n",
    "```\n",
    "Original: AAAAAAAAAAAAABBBCCD (19 characters), \n",
    "Encoded:  13A3B2C1D (7 characters)\n",
    "```\n",
    "\n",
    "\n",
    "This is most efficient on data that contains many such runs, for example, simple graphic images such as icons, line drawings, Conway's Game of Life, and animations. For files that do not have many runs, RLE could increase the file size.\n",
    "\n",
    "```\n",
    "Original: ABCABCABC(9 characters), \n",
    "Encoded:  A1B1C1A1B1C1A1B1C1 (18 characters)\n",
    "```\n",
    "\n",
    "\n",
    "RLE may also be used to refer to an early graphics file format supported by CompuServe for compressing black and white images, but was widely supplanted by their later Graphics Interchange Format (GIF). Check out this great throwback article, [Smile You're on RLE](http://csbruce.com/cbm/transactor/pdfs/trans_v7_i06.pdf).\n",
    "\n",
    "### Lossless Compression in DNA Sequences\n",
    "\n",
    "Lossless compression algorithms have been used for efficiently storing DNA seqeunces, but the tried-and-true `.fasta` text file has never been usurped as the standard. Take a look at some of the following approaches:\n",
    "* [A Compression Algorithm for DNA Sequences and Its Applications in Genome Comparison - PubMed](https://pubmed.ncbi.nlm.nih.gov/11072342/)\n",
    "* [A lossless compression algorithm for DNA sequences - PubMed](https://pubmed.ncbi.nlm.nih.gov/19887334/)\n",
    "* [Biological sequence compression algorithms - PubMed](https://pubmed.ncbi.nlm.nih.gov/11700586/)\n"
   ]
  },
  {
   "attachments": {},
   "cell_type": "markdown",
   "metadata": {},
   "source": [
    "\n",
    "Develop a lossless compression algorithm based on RLE for storing DNA sequences. You may choose to implement an existing algorithm, modify one, or create your own. Note that there are some properties of DNA, such as long repeats, that can be exploited to gain greater compression over single letter runs.\n",
    "\n",
    "The only criteria is that your approach must be able to fully decode as the original sequence and header AND it must never be larger size than the original. Your program should be able to reade/write the encoded and decoded sequence to a file.\n",
    "\n",
    "Test your approach using Human Chromosome 21 sequence and the Sars-CoV-2 genome. \n",
    "\n",
    "\n",
    "Calculate the compression ratio of your approach for each sequence.\n",
    "\n",
    "$ Compression\\ ratio  = (Size_{before})/(Size_{after})$"
   ]
  },
  {
   "cell_type": "markdown",
   "metadata": {},
   "source": [
    "### RLE Approach"
   ]
  },
  {
   "cell_type": "code",
   "execution_count": 11,
   "metadata": {},
   "outputs": [],
   "source": [
    "def encode_rle(sequence):\n",
    "    encoded = []\n",
    "    i = 0\n",
    "    while i < len(sequence):\n",
    "        count = 1\n",
    "        while i + 1 < len(sequence) and sequence[i] == sequence[i + 1]:\n",
    "            count += 1\n",
    "            i += 1\n",
    "        if count > 1:\n",
    "            encoded.append(f\"{count}{sequence[i]}\")\n",
    "        else:\n",
    "            encoded.append(sequence[i])\n",
    "        i += 1\n",
    "    enc = ''.join(encoded)\n",
    "    return enc\n",
    "\n",
    "\n",
    "def decode_rle(encoded_sequence):\n",
    "    decoded = []\n",
    "    i = 0\n",
    "    while i < len(encoded_sequence):\n",
    "        # Check if the current character is a digit, indicating the start of a count\n",
    "        if encoded_sequence[i].isdigit():\n",
    "            count_str = ''\n",
    "            # Collect all consecutive digits to handle multi-digit counts\n",
    "            while i < len(encoded_sequence) and encoded_sequence[i].isdigit():\n",
    "                count_str += encoded_sequence[i]\n",
    "                i += 1\n",
    "            count = int(count_str)\n",
    "            # Append the next character count times\n",
    "            decoded.append(encoded_sequence[i] * count)\n",
    "        else:\n",
    "            # Handle single characters without a preceding count\n",
    "            decoded.append(encoded_sequence[i])\n",
    "        i += 1\n",
    "    dec = ''.join(decoded)\n",
    "    return dec\n"
   ]
  },
  {
   "cell_type": "markdown",
   "metadata": {},
   "source": [
    "### File Manipulation and Computations"
   ]
  },
  {
   "cell_type": "code",
   "execution_count": 8,
   "metadata": {},
   "outputs": [
    {
     "name": "stdout",
     "output_type": "stream",
     "text": [
      "Compression Ratio: 1.0746696035242291\n",
      "CCCATGTGATTTTAATAGCTTCTCAGGAGAATGACAAAAAAAAAAAAAAA\n",
      "CCCATGTGATTTTAATAGCTTCTCAGGAGAATGACAAAAAAAAAAAAAAA\n",
      "Compression and decompression verified successfully.\n"
     ]
    }
   ],
   "source": [
    "\n",
    "def load_fasta(file_path):\n",
    "    '''Load a DNA sequence from a FASTA file'''\n",
    "    header = \"\"\n",
    "    sequence = []\n",
    "    \n",
    "    with open(file_path, 'r') as file:\n",
    "        for line in file:\n",
    "            line = line.strip()\n",
    "            if line.startswith('>'):\n",
    "                # Header line\n",
    "                header = line\n",
    "            else:\n",
    "                # Sequence lines\n",
    "                sequence.append(line)\n",
    "    \n",
    "    # Join sequence lines into a single string\n",
    "    sequence = ''.join(sequence)\n",
    "    return header, sequence\n",
    "\n",
    "\n",
    "def calculate_compression_ratio(original, encoded):\n",
    "    comp_ratio = len(original) / len(encoded)\n",
    "    return comp_ratio\n",
    "    \n",
    "def compress_fasta(input_file, compressed_file):\n",
    "    # Load the FASTA file\n",
    "    header, sequence = load_fasta(input_file)\n",
    "    \n",
    "    # Compress the sequence\n",
    "    encoded_sequence = encode_rle(sequence)\n",
    "    \n",
    "    # Save the compressed sequence to a new file with the header\n",
    "    with open(compressed_file, 'w') as file:\n",
    "        file.write(header + '\\n')\n",
    "        file.write(encoded_sequence + '\\n')\n",
    "    \n",
    "    # Calculate compression ratio\n",
    "    ratio = calculate_compression_ratio(sequence, encoded_sequence)\n",
    "    print(f\"Compression Ratio: {ratio}\")\n",
    "    \n",
    "    return encoded_sequence\n",
    "\n",
    "\n",
    "def decompress_fasta(compressed_file, decompressed_file):\n",
    "    # Load the compressed FASTA file\n",
    "    with open(compressed_file, 'r') as file:\n",
    "        header = file.readline().strip()\n",
    "        encoded_sequence = file.readline().strip()\n",
    "    \n",
    "    # Decode the sequence\n",
    "    decoded_sequence = decode_rle(encoded_sequence)\n",
    "    \n",
    "    # Save the decompressed sequence to a new FASTA file with the header\n",
    "    with open(decompressed_file, 'w') as file:\n",
    "        file.write(header + '\\n')\n",
    "        file.write(decoded_sequence + '\\n')\n",
    "    \n",
    "    return decoded_sequence\n",
    "\n",
    "\n"
   ]
  },
  {
   "cell_type": "markdown",
   "metadata": {},
   "source": [
    "### Chromosome 21"
   ]
  },
  {
   "cell_type": "code",
   "execution_count": 9,
   "metadata": {},
   "outputs": [
    {
     "name": "stdout",
     "output_type": "stream",
     "text": [
      "Compression Ratio: 1.078411399385881\n",
      "CCCCTCAGCCCTCAGGCCTTCATCTCTCCTGGCCCATCTTCCTACTCTGA\n",
      "CCCCTCAGCCCTCAGGCCTTCATCTCTCCTGGCCCATCTTCCTACTCTGA\n",
      "Compression and decompression verified successfully.\n"
     ]
    }
   ],
   "source": [
    "\n",
    "# Example usage\n",
    "input_fasta_file = \"./data/chromosome-21/chr21-genes.fasta\"  # Path to the original chr21 FASTA file\n",
    "compressed_fasta_file = \"./data/chromosome-21/compressed_chr21.fasta\"  # File to save the compressed sequence\n",
    "decompressed_fasta_file = \"./data/chromosome-21/decomp_chr21.fasta\"  # File to save the decompressed sequence\n",
    "\n",
    "# Compress the sequence from the FASTA file\n",
    "encoded_sequence = compress_fasta(input_fasta_file, compressed_fasta_file)\n",
    "\n",
    "# Decompress the sequence for verification\n",
    "decoded_sequence = decompress_fasta(compressed_fasta_file, decompressed_fasta_file)\n",
    "\n",
    "# Verify that decompression returns the original sequence\n",
    "_, original_sequence = load_fasta(input_fasta_file)\n",
    "\n",
    "print(original_sequence[-50:])\n",
    "print(decoded_sequence[-50:])\n",
    "assert original_sequence == decoded_sequence, \"Decompressed sequence does not match the original sequence!\"\n",
    "print(\"Compression and decompression verified successfully.\")\n"
   ]
  },
  {
   "cell_type": "markdown",
   "metadata": {},
   "source": [
    "### Sars CoV 2"
   ]
  },
  {
   "cell_type": "code",
   "execution_count": 10,
   "metadata": {},
   "outputs": [
    {
     "name": "stdout",
     "output_type": "stream",
     "text": [
      "Compression Ratio: 1.0746696035242291\n",
      "CCCATGTGATTTTAATAGCTTCTCAGGAGAATGACAAAAAAAAAAAAAAA\n",
      "CCCATGTGATTTTAATAGCTTCTCAGGAGAATGACAAAAAAAAAAAAAAA\n",
      "Compression and decompression verified successfully.\n"
     ]
    }
   ],
   "source": [
    "\n",
    "input_fasta_file = \"./data/sars-cov-2/human_sars-cov.fasta\"  # Path to the original Sars CoV 2 FASTA file\n",
    "compressed_fasta_file = \"./data/sars-cov-2/compressed_sars.fasta\"  # File to save the compressed sequence\n",
    "decompressed_fasta_file = \"./data/sars-cov-2/decomp_sars.fasta\"  # File to save the decompressed sequence\n",
    "\n",
    "# Compress the sequence from the FASTA file\n",
    "encoded_sequence = compress_fasta(input_fasta_file, compressed_fasta_file)\n",
    "\n",
    "# Decompress the sequence for verification\n",
    "decoded_sequence = decompress_fasta(compressed_fasta_file, decompressed_fasta_file)\n",
    "\n",
    "# Verify that decompression returns the original sequence\n",
    "_, original_sequence = load_fasta(input_fasta_file)\n",
    "\n",
    "print(original_sequence[-50:])\n",
    "print(decoded_sequence[-50:])\n",
    "assert original_sequence == decoded_sequence, \"Decompressed sequence does not match the original sequence!\"\n",
    "print(\"Compression and decompression verified successfully.\")\n"
   ]
  },
  {
   "cell_type": "code",
   "execution_count": null,
   "metadata": {},
   "outputs": [],
   "source": []
  },
  {
   "cell_type": "markdown",
   "metadata": {},
   "source": [
    "### Results\n",
    "Compression rates are greater than 1, so this is good!"
   ]
  },
  {
   "cell_type": "code",
   "execution_count": null,
   "metadata": {},
   "outputs": [],
   "source": []
  }
 ],
 "metadata": {
  "interpreter": {
   "hash": "6ba916f278725abf7eff3b0ceb1f08835ef39f267b76416c5b8fd316147ba4a5"
  },
  "kernelspec": {
   "display_name": "Python 3 (ipykernel)",
   "language": "python",
   "name": "python3"
  },
  "language_info": {
   "codemirror_mode": {
    "name": "ipython",
    "version": 3
   },
   "file_extension": ".py",
   "mimetype": "text/x-python",
   "name": "python",
   "nbconvert_exporter": "python",
   "pygments_lexer": "ipython3",
   "version": "3.12.4"
  }
 },
 "nbformat": 4,
 "nbformat_minor": 4
}
