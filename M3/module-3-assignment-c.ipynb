{
 "cells": [
  {
   "attachments": {},
   "cell_type": "markdown",
   "metadata": {},
   "source": [
    "# Module 3: Assignment C #\n",
    "\n",
    "------"
   ]
  },
  {
   "attachments": {},
   "cell_type": "markdown",
   "metadata": {},
   "source": [
    "## 1. Dynamic Progamming Implementation\n",
    "\n",
    "Implement dynamic programming algorithms for global ([Needleman-Wunsch](https://pubmed.ncbi.nlm.nih.gov/5420325/)) and local ([Smith-Waterman](https://pubmed.ncbi.nlm.nih.gov/7265238)) alignment of protein sequences. The implementation should be a stand alone, command-line application. \n",
    "\n",
    "\n",
    "> There is a jupyter notebook in the module that walkthrough a partial implemention of Needleman-Wunsch. Feel free to use this code as a starter, but you do not feel obligated to. You may find it easier to start from scratch so that you can completely understand every aspect of your code or use this to get you started. There are some differences of what is being asked of you here, as to what is implemented (eg. scoring matrix, protein only) in the notebook.\n",
    "\n",
    "The application should allow the user to read in the sequences from a fasta formatted file, select the type of alignment (local or global).\n",
    "\n",
    "The application should take parameter from the the command line to set the sequence files, the type of alignment, the scoring matrix and a linear gap penalty. Include the ability to select either the blosum62 or pam250 scoring matrices. The matrices are included as python dictionaries [here]().\n",
    "\n",
    "An example of running the program is shown below:\n",
    "\n",
    "```\n",
    "\n",
    "align.py --seq1 sequence_file.fasta \\\n",
    "         --seq2 different_sequence_file.fasta \\ \n",
    "         --type global \\\n",
    "         --matrix blosum62 \\\n",
    "         --gap_penalty -2\n",
    "\n",
    "```\n",
    "\n",
    "Please use judicious comments throughout your code. \n",
    "\n",
    "The program should report the alignment score, the sequence identity and a visual representation of the alignment. For example:\n",
    "\n",
    "```\n",
    "\n",
    "seq 1   GCTAGGATAGGCAATTGGCCTAG--T--G\n",
    "seq 2   ------ATA-GTAATTGGCCT-GCTTGAG\n",
    "Aligment Score:    3\n",
    "Sequence Identity: 78%\n",
    "\n",
    "```\n",
    "\n",
    "Implement your code in a separate module and provide an example of a command used to execute it. Provide any files needed for the run."
   ]
  },
  {
   "cell_type": "markdown",
   "metadata": {},
   "source": [
    "#### execution with some random fasta files:\n",
    "#### (code in alignments.py)\n",
    "- python3 alignments.py --seq1 ./data/seq3.fasta --seq2 ./data/seq4.fasta --type global --matrix blosum62 --gap_penalty -2 \\\n",
    "- python3 alignments.py --seq1 ./data/ex3.fasta --seq2 ./data/ex4.fasta --type global --matrix blosum62 --gap_penalty -2"
   ]
  },
  {
   "cell_type": "markdown",
   "metadata": {},
   "source": [
    "Resources and tools to help test your implementation:\n",
    "\n",
    "* Neelemen-Wunsch \n",
    "  - A general method applicable to the search for similarities in the amino acid sequence of two proteins. Needleman SB, Wunsch CD. [J Mol Biol 1970 Mar;48(3):443-53](http://www.ncbi.nlm.nih.gov/pubmed/5420325?ordinalpos=7&itool=EntrezSystem2.PEntrez.Pubmed.Pubmed_ResultsPanel.Pubmed_DefaultReportPanel.Pubmed_RVDocSum)\n",
    "  - Online Needleman-Wunsch Alignment Tool: http://rna.informatik.uni-freiburg.de/Teaching/index.jsp?toolName=Needleman-Wunsch\n",
    "\n",
    "* Smith Waterman\n",
    "  - Identification of common molecular subsequences. Smith TF, Waterman MS. [J Mol Biol 1981 Mar 25;147(1):195-7]({{site.cdn}}/2015-Autumn/Session3/dayhoff-1978-apss.pdf)\n",
    "  - Online Smith Waterman Alignment Tool: http://rna.informatik.uni-freiburg.de/Teaching/index.jsp?toolName=Smith-Waterman"
   ]
  },
  {
   "attachments": {},
   "cell_type": "markdown",
   "metadata": {},
   "source": [
    "## 2.  Statisics of Pairwise Alignments\n",
    "---------------------------------------\n",
    "\n",
    "Perform a global sequence alignment of the following sequences:\n",
    "\n",
    "```\n",
    "PAWHEAE\n",
    "HEAGAWGHEE\n",
    "```\n",
    "Assume a match score of `1`, a gap penalty of `3` and a substitution score of `-1`.  What is the alignment score?\n"
   ]
  },
  {
   "cell_type": "markdown",
   "metadata": {},
   "source": [
    "- PAWHEAE is in data/ex1.fasta \\\n",
    "- HEAGAWGHEE is in data/ex2.fasta"
   ]
  },
  {
   "cell_type": "code",
   "execution_count": 1,
   "metadata": {},
   "outputs": [
    {
     "name": "stdout",
     "output_type": "stream",
     "text": [
      "Alignment:\n",
      "---PAWHEAE\n",
      "HEAGAWGHEE\n",
      "Alignment Score: -10\n"
     ]
    }
   ],
   "source": [
    "import matplotlib.pyplot as plt\n",
    "import math \n",
    "\n",
    "def global_alignment(seq1, seq2, match_score=1, mismatch_score=-1, gap_penalty=-3):\n",
    "    '''\n",
    "    This function creates a score matrix for Needleman-Wunsch (global) algorithm\n",
    "\n",
    "    Input:\n",
    "        seq1, seq2 (str): your sequences\n",
    "\n",
    "    Returns:\n",
    "        aligned_seq1, aligned_seq2 (str): the optimal alignment of the sequences\n",
    "        score_matrix: A 2D list (matrix). each cell contains the alignment score for the best possible alignment up to that point\n",
    "    '''\n",
    "\n",
    "    rows = len(seq1) + 1\n",
    "    cols = len(seq2) + 1\n",
    "\n",
    "    # Initialize the output matrices\n",
    "    score_matrix = [[0] * cols for _ in range(rows)]\n",
    "\n",
    "    # Initialize first row and column with gap penalty\n",
    "    for i in range(rows):\n",
    "        score_matrix[i][0] = gap_penalty * i\n",
    "    for j in range(cols):\n",
    "        score_matrix[0][j] = gap_penalty * j\n",
    "\n",
    "    # Fill the matrix using the recursion\n",
    "    for i in range(1, rows):\n",
    "        for j in range(1, cols):\n",
    "            match = score_matrix[i - 1][j - 1] + (match_score if seq1[i - 1] == seq2[j - 1] else mismatch_score)\n",
    "            gap1 = score_matrix[i - 1][j] + gap_penalty\n",
    "            gap2 = score_matrix[i][j - 1] + gap_penalty\n",
    "            score_matrix[i][j] = max(match, gap1, gap2)\n",
    "\n",
    "    # Traceback\n",
    "    aligned_seq1 = \"\"\n",
    "    aligned_seq2 = \"\"\n",
    "    i, j = rows-1, cols-1\n",
    "    while i > 0 or j > 0:\n",
    "        if i > 0 and j > 0 and score_matrix[i][j] == score_matrix[i - 1][j - 1] + (match_score if seq1[i - 1] == seq2[j - 1] else mismatch_score):\n",
    "            aligned_seq1 = seq1[i - 1] + aligned_seq1\n",
    "            aligned_seq2 = seq2[j - 1] + aligned_seq2\n",
    "            i -= 1\n",
    "            j -= 1\n",
    "        elif i > 0 and score_matrix[i][j] == score_matrix[i - 1][j] + gap_penalty:\n",
    "            aligned_seq1 = seq1[i - 1] + aligned_seq1\n",
    "            aligned_seq2 = \"-\" + aligned_seq2\n",
    "            i -= 1\n",
    "        else:\n",
    "            aligned_seq1 = \"-\" + aligned_seq1\n",
    "            aligned_seq2 = seq2[j - 1] + aligned_seq2\n",
    "            j -= 1\n",
    "\n",
    "    return aligned_seq1, aligned_seq2, score_matrix\n",
    "\n",
    "\n",
    "seq1 = \"PAWHEAE\"\n",
    "seq2 = \"HEAGAWGHEE\"\n",
    "aligned_seq1, aligned_seq2, score_matrix = global_alignment(seq1, seq2)\n",
    "alignment_score = score_matrix[len(seq1)][len(seq2)]\n",
    "print(f\"Alignment:\\n{aligned_seq1}\\n{aligned_seq2}\")\n",
    "print(f\"Alignment Score: {alignment_score}\")\n"
   ]
  },
  {
   "cell_type": "markdown",
   "metadata": {},
   "source": [
    "#### Or with prior, commmand line:"
   ]
  },
  {
   "cell_type": "markdown",
   "metadata": {},
   "source": [
    "$ python alignments.py --seq1 ./data/ex1.fasta --seq2 ./data/ex2.fasta --type global --matrix blosum62 --gap_penalty -3"
   ]
  },
  {
   "cell_type": "markdown",
   "metadata": {},
   "source": [
    "#### Output: \n",
    "Alignment: \\\n",
    "---PAWHEAE \\\n",
    "HEAGAWGHEE \\\n",
    "Alignment Score: -10 \\\n",
    "Sequence Identity: 42.86%"
   ]
  },
  {
   "cell_type": "markdown",
   "metadata": {},
   "source": [
    "How many ways can you uniquely shuffle the sequence `PAWHEAE`? For example: `PAWHEAE`, `PAWHEEA`, `PAWHAEE`, etc."
   ]
  },
  {
   "cell_type": "code",
   "execution_count": 2,
   "metadata": {},
   "outputs": [
    {
     "name": "stdout",
     "output_type": "stream",
     "text": [
      "There are 1260 unique ways to shuffle the sequence 'PAWHEAE'.\n"
     ]
    }
   ],
   "source": [
    "import math\n",
    "\n",
    "def unique_shuffles(seq):\n",
    "    '''\n",
    "    This function calculates the number of unique shuffles of a sequence.\n",
    "\n",
    "    Input:\n",
    "        seq (str): the sequence\n",
    "\n",
    "    Returns:\n",
    "        count (int): the number of ways to shuffle the sequence.\n",
    "    '''\n",
    "    n = len(seq)\n",
    "\n",
    "    # count the unique characters\n",
    "    char_counts = {}\n",
    "    for char in seq:\n",
    "        char_counts[char] = char_counts.get(char, 0) + 1\n",
    "\n",
    "    numerator = math.factorial(n)\n",
    "    denominator = 1\n",
    "    for count in char_counts.values():\n",
    "        # account for repeated characters\n",
    "        denominator *= math.factorial(count)\n",
    "\n",
    "    # get unique shuffles\n",
    "    count = numerator // denominator\n",
    "    return count\n",
    "\n",
    "og_seq = 'PAWHEAE'\n",
    "unique = unique_shuffles(og_seq)\n",
    "print(f\"There are {unique} unique ways to shuffle the sequence '{og_seq}'.\")"
   ]
  },
  {
   "attachments": {},
   "cell_type": "markdown",
   "metadata": {},
   "source": [
    "Next, generate 100 random sequences with the same amino acid composition as `PAWHEAE`. Perform an alignment of each newly generated sequence to `HEAGAWGHEE` and record the alignment scores. Calculate the Z-score for each alignment and construct a plot using `matplotlib`. Place the Z-score on the x-axis. Include the plot inline below."
   ]
  },
  {
   "cell_type": "code",
   "execution_count": 5,
   "metadata": {},
   "outputs": [],
   "source": [
    "import random \n",
    "import numpy as np\n",
    "\n",
    "target_seq = \"HEAGAWGHEE\"\n",
    "og_seq = \"PAWHEAE\"\n",
    "scores = [] # to hold random alignment scores\n",
    "\n",
    "# 100 random shuffles\n",
    "random_sequences = [\"\".join(random.sample(og_seq, len(og_seq))) for _ in range(100)]\n",
    "\n",
    "# Compute alignments for each shuffled sequence\n",
    "for seq in random_sequences:\n",
    "    aligned_seq1, aligned_seq2, score_matrix = global_alignment(seq, target_seq)\n",
    "    alignment_score = score_matrix[len(seq)][len(target_seq)]\n",
    "    scores.append(alignment_score)\n",
    "    \n",
    "# Calculate the mean, standard deviation, and then the z-scores of the alignment scores\n",
    "mean_score = np.mean(scores)\n",
    "std_dev = np.std(scores)\n",
    "z_scores = [(score - mean_score) / std_dev for score in scores]"
   ]
  },
  {
   "cell_type": "code",
   "execution_count": 6,
   "metadata": {},
   "outputs": [
    {
     "data": {
      "image/png": "[encoded data removed]",
      "text/plain": [
       "<Figure size 1000x600 with 1 Axes>"
      ]
     },
     "metadata": {},
     "output_type": "display_data"
    }
   ],
   "source": [
    "# Plot here\n",
    "plt.figure(figsize=(10, 6))\n",
    "plt.hist(z_scores, bins=10, edgecolor='black')\n",
    "plt.title(\"Distribution of Z-Scores for Alignment of 100 samples\")\n",
    "plt.xlabel(\"Z-Score\")\n",
    "plt.ylabel(\"Frequency\")\n",
    "plt.grid(True)\n",
    "plt.show()"
   ]
  },
  {
   "cell_type": "code",
   "execution_count": 7,
   "metadata": {},
   "outputs": [
    {
     "name": "stdout",
     "output_type": "stream",
     "text": [
      "0.10736246830291389\n"
     ]
    }
   ],
   "source": [
    "# Perform the alignment for the original sequences\n",
    "# PAWHEAE and HEAGAWGHEE\n",
    "aligned_seq1, aligned_seq2, score_matrix = global_alignment(og_seq, target_seq)\n",
    "og_alignment_score = score_matrix[len(og_seq)][len(target_seq)]\n",
    "\n",
    "# Calculate the Z-score for the original alignment\n",
    "og_z_score = (og_alignment_score - mean_score) / std_dev\n",
    "print(og_z_score)"
   ]
  },
  {
   "cell_type": "markdown",
   "metadata": {},
   "source": [
    " What does the Z-score suggest about the significance of the initial alignment your performed?  "
   ]
  },
  {
   "cell_type": "markdown",
   "metadata": {},
   "source": [
    "The Z-score of 0.107 is very close to zero, so this indicates that the alignment score of the original sequence is very close to the mean of the random alignments. This indicates that the alignment is not very statistically significant. This means that based on the Z-score, the original alignment may not be particularly meaningful or biologically significant."
   ]
  },
  {
   "cell_type": "markdown",
   "metadata": {},
   "source": [
    "Are the alignment scores normally distributed?  _You can use SciPy or any other python modules to help._"
   ]
  },
  {
   "cell_type": "code",
   "execution_count": 9,
   "metadata": {},
   "outputs": [
    {
     "name": "stdout",
     "output_type": "stream",
     "text": [
      "statistic: 0.9049842495201623\n",
      "p-value: 2.4439716601423917e-06\n"
     ]
    }
   ],
   "source": [
    "from scipy import stats\n",
    "\n",
    "#perform Shapiro-Wilk test for normality\n",
    "statistic, pvalue = stats.shapiro(scores)\n",
    "\n",
    "# Display the results\n",
    "print(f\"statistic: {statistic}\\np-value: {pvalue}\")\n"
   ]
  },
  {
   "cell_type": "markdown",
   "metadata": {},
   "source": [
    "Since the p-value is less than .05, we reject the null hypothesis of the Shapiro-Wilk test. This means that the alignment scores are not normally distributed."
   ]
  },
  {
   "cell_type": "markdown",
   "metadata": {},
   "source": [
    "Repeat the process above, but now generate 1,000 and 10,000 random sequences and calculate the Z-score for each set.  Does the change in number of sequences alter your evaluation of the evolutionary relatedness of the sequences?"
   ]
  },
  {
   "cell_type": "markdown",
   "metadata": {},
   "source": [
    "### For 1000"
   ]
  },
  {
   "cell_type": "code",
   "execution_count": 10,
   "metadata": {},
   "outputs": [],
   "source": [
    "# 1000 random shuffles\n",
    "random_sequences_1000 = [\"\".join(random.sample(og_seq, len(og_seq))) for _ in range(1000)]\n",
    "scores_1000 = []\n",
    "\n",
    "# Compute alignments for each shuffled sequence (for 1000)\n",
    "for seq in random_sequences_1000:\n",
    "    aligned_seq1, aligned_seq2, score_matrix = global_alignment(seq, target_seq)\n",
    "    alignment_score = score_matrix[len(seq)][len(target_seq)]\n",
    "    scores_1000.append(alignment_score)\n",
    "\n",
    "mean_1000 = np.mean(scores_1000)\n",
    "std_dev_1000 = np.std(scores_1000)\n",
    "z_scores_1000 = [(score - mean_1000) / std_dev_1000 for score in scores_1000]\n"
   ]
  },
  {
   "cell_type": "markdown",
   "metadata": {},
   "source": [
    "### For 10000"
   ]
  },
  {
   "cell_type": "code",
   "execution_count": 16,
   "metadata": {},
   "outputs": [],
   "source": [
    "\n",
    "# 10000 random shuffles\n",
    "random_sequences_10000 = [\"\".join(random.sample(og_seq, len(og_seq))) for _ in range(10000)]\n",
    "scores_10000 = []\n",
    "\n",
    "# Compute alignments for each shuffled sequence (for 10000)\n",
    "for seq in random_sequences_10000:\n",
    "    aligned_seq1, aligned_seq2, score_matrix = global_alignment(seq, target_seq)\n",
    "    alignment_score = score_matrix[len(seq)][len(target_seq)]\n",
    "    scores_10000.append(alignment_score)\n",
    "    \n",
    "mean_10000 = np.mean(scores_10000)\n",
    "std_dev_10000 = np.std(scores_10000)\n",
    "z_scores_10000 = [(score - mean_10000) / std_dev_10000 for score in scores_10000]\n"
   ]
  },
  {
   "cell_type": "code",
   "execution_count": 17,
   "metadata": {},
   "outputs": [
    {
     "name": "stdout",
     "output_type": "stream",
     "text": [
      "original_z_score_1000: -0.10627881221657161\n",
      "original_z_score_10000: -0.037772064341836074\n"
     ]
    }
   ],
   "source": [
    "# Z-scores for the original sequence for 1000 and 10000\n",
    "og_z_score_1000 = (og_alignment_score - mean_1000) / std_dev_10000\n",
    "og_z_score_10000 = (og_alignment_score - mean_10000) / std_dev_10000\n",
    "\n",
    "print(f\"original_z_score_1000: {og_z_score_1000}\\noriginal_z_score_10000: {og_z_score_10000}\")"
   ]
  },
  {
   "cell_type": "markdown",
   "metadata": {},
   "source": [
    "The Z-scores against the original alignment are:\n",
    "\n",
    "- For 1,000 random sequences: -0.106\n",
    "- For 10,000 random sequences: -0.037\n",
    "\n",
    "These Z-scores are still close to zero and indicate that the alignment score of the original sequence is still not significantly different from the random shuffles, even with a larger set of random sequences. The original alignment still does not appear to be biologically significant."
   ]
  },
  {
   "cell_type": "markdown",
   "metadata": {},
   "source": [
    "Considering the wall time for each run, comment of the feasibility for computing the Z-score significance while searching a large database of millions of sequences."
   ]
  },
  {
   "cell_type": "markdown",
   "metadata": {
    "collapsed": true,
    "jupyter": {
     "outputs_hidden": true
    }
   },
   "source": [
    "For a database of millions of sequences, this scaling would result in significant computational time so increasing to millions of sequences would increase run time exponentially and would not be realistic."
   ]
  },
  {
   "cell_type": "markdown",
   "metadata": {},
   "source": [
    "# 3. Pig, Whale, and Hippo Revisited\n",
    "---\n",
    "Redo your experiment from Notebook A using either your SW and NW implementations. Do you get different answers based on the approach used?"
   ]
  },
  {
   "cell_type": "markdown",
   "metadata": {},
   "source": [
    "#### Files:\n",
    "- seq1.fasta: Pig\n",
    "- seq2.fasta: Whale\n",
    "- seq3.fasta: Hippo\n",
    "\n",
    "### Using global alignment:\n",
    "\n",
    "#### Hippo vs Whale:\n",
    "- $ python alignments.py --seq1 ./data/seq3.fasta --seq2 ./data/seq2.fasta --type global --matrix blosum62 --gap_penalty -3\n",
    "\n",
    "Alignment Score: 95 \\\n",
    "Sequence Identity: 83.56%\n",
    "\n",
    "#### Hippo vs Pig:\n",
    "- $ python alignments.py --seq1 ./data/seq3.fasta --seq2 ./data/seq1.fasta --type global --matrix blosum62 --gap_penalty -3\n",
    "\n",
    "Alignment Score: 97 \\\n",
    "Sequence Identity: 85.52%\n",
    "\n",
    "#### Pig vs Whale:\n",
    "- $ python alignments.py --seq1 ./data/seq3.fasta --seq2 ./data/seq1.fasta --type global --matrix blosum62 --gap_penalty -3\n",
    "\n",
    "Alignment Score: 83 \\\n",
    "Sequence Identity: 79.45%"
   ]
  },
  {
   "cell_type": "markdown",
   "metadata": {},
   "source": [
    "Yes, the results are different because they show that Hippo is more closely related to both the pig and the whale (but still moreso pig). This differes from the Hamming approach that claimed that the pippo was not closely related to the pig or whale, but that the pig and whale were similar."
   ]
  },
  {
   "attachments": {},
   "cell_type": "markdown",
   "metadata": {},
   "source": [
    "# 4.  Recent Approaches in Sequence Alignemnt\n",
    "-----------------------------------------------------\n",
    "\n",
    "Search [PubMed](https://pubmed.ncbi.nlm.nih.gov) and identify a paper on a different sequence alignment method.  Do not use BLAST or FASTA.  Briefly (at a high-level), discuss what is different in these approaches and how they improve on what we have seen with Needleman-Wunch and/or Smith-Waterman.  You answer does not have to be uneccesarily technical, but please provide an understanding example of the improvement it makes. Limit your response to 1 paragragh at most. Share you findings and a link to the paper in the `#showcase` channel."
   ]
  },
  {
   "cell_type": "markdown",
   "metadata": {},
   "source": [
    "#### WeIghTed Consensus Hidden Markov Model alignment (WITCH)\n",
    "https://pubmed.ncbi.nlm.nih.gov/35575747/\n",
    "\n",
    "\n",
    "WITCH is a newer approach to multiple sequence alignment. Like Needleman-Wunsch and Smith, it is fundamentally concerned with sequence alignment but operates at a higher level of complexity (specifically for multiple sequence alignments rather than pairwise). This approach improves on existing methods, particularly in handling datasets with sequence length heterogeneity. Length heterogeneity, which arises from biological events like large indels or incomplete sequences, is a significant challenge in sequence alignment. WITCH enhances on previous approaches (like UPP) by not only creating a \"backbone alignment\" of full-length sequences and using hidden Markov models to add the remaining sequences, but also weighting and ranking the Markov models using a statistically principled approach. It incorporates multiple models for each sequence and uses a consensus algorithm to combine these alignments based on the weights. These improvements result in higher alignment accuracy, especially for complex datasets."
   ]
  },
  {
   "cell_type": "markdown",
   "metadata": {},
   "source": [
    "### References:\n",
    "- parsing python arguments: https://docs.python.org/3/library/argparse.html\n",
    "- python number of strings from sequence: https://stackoverflow.com/questions/26769066/calculate-the-number-of-unique-strings-that-can-be-made-from-a-string\n",
    "- Normal distributions with Shapiro: https://www.statology.org/normality-test-python/"
   ]
  },
  {
   "cell_type": "code",
   "execution_count": null,
   "metadata": {},
   "outputs": [],
   "source": []
  }
 ],
 "metadata": {
  "anaconda-cloud": {},
  "kernelspec": {
   "display_name": "Python 3 (ipykernel)",
   "language": "python",
   "name": "python3"
  },
  "language_info": {
   "codemirror_mode": {
    "name": "ipython",
    "version": 3
   },
   "file_extension": ".py",
   "mimetype": "text/x-python",
   "name": "python",
   "nbconvert_exporter": "python",
   "pygments_lexer": "ipython3",
   "version": "3.13.0"
  }
 },
 "nbformat": 4,
 "nbformat_minor": 4
}
