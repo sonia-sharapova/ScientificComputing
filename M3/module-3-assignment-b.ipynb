{
 "cells": [
  {
   "attachments": {},
   "cell_type": "markdown",
   "metadata": {},
   "source": [
    "# Module 3: Assignment B #\n"
   ]
  },
  {
   "attachments": {},
   "cell_type": "markdown",
   "metadata": {},
   "source": [
    "## 1. Manual Global Sequence Alignment\n",
    "-------------------------------\n",
    "You are given two sequences `AGATTAC` and `AGTTAC`. Assume a match score of `1`, a gap penalty of `3` and a substitution score of `-1`. Using these scores, obtain the global alignment of these two sequences manually on a piece of paper in the following two steps:\n",
    "\n",
    "1. Fill in the entries of the `F` matrix by applying the recurrence relationship for global alignment to these sequences. Please show the back pointers to the matrix entry/entries that give you the maximal score for any entry.\n",
    "\n",
    "2. Apply the trace back procedure to obtain an optimal alignment. If there are multiple possible alignments, please show all of them along with their traceback paths.\n",
    "\n",
    "Take a picture of your alignments and include the image as submission for homework.  Please type the alignments immediately following."
   ]
  },
  {
   "cell_type": "markdown",
   "metadata": {},
   "source": [
    "# image here and alignment here\n",
    "\n",
    "Alignments:\\\n",
    "AGATTAC\\\n",
    "AG_TTAC\n",
    "\n",
    "Score: 3"
   ]
  },
  {
   "cell_type": "markdown",
   "metadata": {},
   "source": [
    "> The Freiburg RNA tools website has an interactive Needleman-Wunsch alignment calculator [here](http://rna.informatik.uni-freiburg.de/Teaching/index.jsp?toolName=Needleman-Wunsch), and also has equations and calcualtors for many related alignment tasks, such as modifications of sequence alignment, and also RNA folding and co-folding algorithms. Use this to check your work. Make sure that you are using the same scoring and gap penalty values."
   ]
  },
  {
   "attachments": {},
   "cell_type": "markdown",
   "metadata": {},
   "source": [
    "## 2. Manual Local Sequence Alignment\n",
    "-----------------------------\n",
    "Perform a manual local alignment for the sequences, `GAAGAGTATA` and `AAGCTATACC`.   Assume a match score of `1`, a gap penalty of `3` and a substitution score of `-1`.  Complete the following steps:\n",
    "\n",
    "1. Fill in the entries of the `F` matrix using the recurrence relationship for the local alignment of these sequences. Show back pointers to matrix entry/entries that give you the maximal score.\n",
    "\n",
    "2. Apply the trace back procedure to generate a local alignment.\n",
    "\n",
    "Take a picture of your alignments and include the image as submission for homework.  Please type the alignments immediately following."
   ]
  },
  {
   "cell_type": "markdown",
   "metadata": {},
   "source": [
    "# image here and alignment here\n",
    "\n",
    "Alignments (TATA): \n",
    "\n",
    "GAAGAGTATA\\\n",
    "&nbsp; &nbsp; &nbsp; &nbsp; &nbsp; &nbsp; &nbsp; &nbsp;****\\\n",
    "&nbsp; &nbsp; &nbsp; AAGCTATACC\n",
    "\n",
    "\\\n",
    "\\\n",
    "Alignment score: 4"
   ]
  },
  {
   "cell_type": "markdown",
   "metadata": {},
   "source": [
    "#### References:\n",
    "- References class resources.\n",
    "- Needleman Wunsch Walkthrough: https://www.youtube.com/watch?v=FIxYGV7WPA8\n",
    "- Checked results with:\\\n",
    "  http://rna.informatik.uni-freiburg.de/Teaching/index.jsp?toolName=Needleman-Wunsch \\\n",
    "  https://rna.informatik.uni-freiburg.de/Teaching/index.jsp?toolName=Smith-Waterman\n",
    "- Local Alignment: https://www.cs.cmu.edu/~ckingsf/bioinfo-lectures/local.pdf\n"
   ]
  },
  {
   "cell_type": "code",
   "execution_count": null,
   "metadata": {},
   "outputs": [],
   "source": []
  }
 ],
 "metadata": {
  "anaconda-cloud": {},
  "kernelspec": {
   "display_name": "Python 3 (ipykernel)",
   "language": "python",
   "name": "python3"
  },
  "language_info": {
   "codemirror_mode": {
    "name": "ipython",
    "version": 3
   },
   "file_extension": ".py",
   "mimetype": "text/x-python",
   "name": "python",
   "nbconvert_exporter": "python",
   "pygments_lexer": "ipython3",
   "version": "3.13.0"
  }
 },
 "nbformat": 4,
 "nbformat_minor": 4
}
