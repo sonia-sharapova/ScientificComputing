{
 "cells": [
  {
   "cell_type": "markdown",
   "metadata": {},
   "source": [
    "# Module 3: Assignment A #\n",
    "---\n",
    "\n",
    "## Limitations of the Hamming Distance\n",
    "\n",
    "The Hamming distance is the number of positions in between two strings of equal length. It is defined as the number of positions at which the corresponding symbols are different. In other words, it is the minimum number of substitutions required to change one string into the other. The Hamming distance is named after Richard Hamming, who introduced the concept in the context of error-correcting codes.\n",
    "\n",
    "For example, consider two binary strings,\n",
    "`1100111001` and `0100010101`. The Hamming distance is 4, because at positions 1, 5, 7 and 8, we\n",
    "find the symbol mismatch. \n",
    "\n",
    "\n",
    "```\n",
    "1100111001\n",
    "0100010101\n",
    "+-++-+--++\n",
    "```\n",
    "\n",
    "If we consider two DNA sequences, `AGCTAAC` and `AACTCCA`, the Hamming\n",
    "distance between them will be 4, because at positions 2, 5, 6 and 7 we find symbol mismatch.\n",
    "\n",
    "```\n",
    "AGCTAAC\n",
    "AACTCCA\n",
    "+-++---\n",
    "```\n"
   ]
  },
  {
   "cell_type": "markdown",
   "metadata": {},
   "source": [
    "Write a function that computes the Hamming distance between two sequences. "
   ]
  },
  {
   "cell_type": "code",
   "execution_count": 1,
   "metadata": {},
   "outputs": [],
   "source": [
    "# Hamming Distance\n",
    "\n",
    "def hamming_distance(seq1, seq2):\n",
    "    '''\n",
    "    This function computes the Hamming Distance between two sequences.\n",
    "\n",
    "    Input: \n",
    "        seq1, seq2 (str): the two sequences to compare. Must be of equal length.\n",
    "\n",
    "    Returns:\n",
    "        distance (int): the number of mismatches between the sequences\n",
    "    '''\n",
    "    # Check that the given sequences are of equal length\n",
    "    if len(seq1) != len(seq2):\n",
    "        raise ValueError(\"Sequences must be of equal length\")\n",
    "\n",
    "    distance = 0\n",
    "    \n",
    "    # map the two sequences to form single entity\n",
    "    combined_seq = zip(seq1, seq2)\n",
    "\n",
    "    # comparing corresponding elements from both sequences \n",
    "    for n1, n2 in combined_seq:\n",
    "        # count mismatches between positions\n",
    "        if n1 != n2: \n",
    "            distance += 1\n",
    "    return distance\n"
   ]
  },
  {
   "cell_type": "code",
   "execution_count": 2,
   "metadata": {},
   "outputs": [
    {
     "name": "stdout",
     "output_type": "stream",
     "text": [
      "Sequences:\n",
      "\n",
      "AGCTAAC\n",
      "AACTCCA\n",
      "\n",
      "Hamming Distance: 4\n"
     ]
    }
   ],
   "source": [
    "# From given enample:\n",
    "seq1 = \"AGCTAAC\"\n",
    "seq2 = \"AACTCCA\"\n",
    "distance = hamming_distance(seq1, seq2)\n",
    "\n",
    "print(f\"Sequences:\\n\\n{seq1}\\n{seq2}\\n\\nHamming Distance: {distance}\")"
   ]
  },
  {
   "cell_type": "markdown",
   "metadata": {},
   "source": [
    "Use your Hamming Distance function to answer the following question: Is a hippopotamus more closely related to a pig or to a whale? \n",
    "\n",
    "\n",
    "Use the following sequences of Hemoglobin subunit beta from each organism for your assessment. Hemoglobin represents a model protein used to study molecular adaptation in vertebrates. You may chop up the sequences how ever you see fit to ensure they are equal length. Please explain your approach to normalizing the sequence length and rationale.\n",
    "\n",
    "\n",
    "```\n",
    ">PIG | A0A8D0NPF5_PIG Hemoglobin subunit beta\n",
    "MVHLSAEESAAVLGLQGKVNMVELGGEALGRLLVVYPWTQRFFESFGDLSNADAVMGNPK\n",
    "VKAHGKKVLQSFSDGLKHLDNLKGTFAKLSELHCDQLHVDPENFRLLGNVIVVILARRFG\n",
    "NDFNPDLQAAFQKVVAGVANALAHYH\n",
    "\n",
    ">WHALE | A0A140GN68_KOGSI Hemoglobin subunit beta\n",
    "MVHLTAEEKSAVTALWAKVNVEEIGGEALGRLLVVYPWTQRFFEHFGDLSTADAVMKNAS\n",
    "VKSHGKKVLASFSEGLKHFDNLKGTFAQLSELHCDKLHVDPENFRLLGNVLVVVLARHFG\n",
    "KEFTPELQTAFQKLVAGVANALAHKYH\n",
    "\n",
    ">HIPPOPOTAMUS | HBB_HIPAM Hemoglobin subunit beta\n",
    "VHLTAEEKDAVLGLWGKVNVQEVGGEALGRLLVVYPWTQRFFESFGDLSSADAVMNNPKV\n",
    "KAHGKKVLDSFADGLKHLDNLKGTFAALSELHCDQLHVDPENFRLLGNELVVVLARTFGK\n",
    "EFTPELQAAYQKVVAGVANALAHRYH\n",
    "```"
   ]
  },
  {
   "cell_type": "markdown",
   "metadata": {},
   "source": [
    "What are some of the limitations you observe for using the Hamming Distance for biological sequence comparision?"
   ]
  },
  {
   "cell_type": "markdown",
   "metadata": {},
   "source": [
    "_Answer here_"
   ]
  },
  {
   "cell_type": "code",
   "execution_count": 3,
   "metadata": {},
   "outputs": [],
   "source": [
    "# Sequences\n",
    "pig_seq = (\"MVHLSAEESAAVLGLQGKVNMVELGGEALGRLLVVYPWTQRFFESFGDLSNADAVMGNPK\"\n",
    "           \"VKAHGKKVLQSFSDGLKHLDNLKGTFAKLSELHCDQLHVDPENFRLLGNVIVVILARRFG\"\n",
    "           \"NDFNPDLQAAFQKVVAGVANALAHYH\")\n",
    "\n",
    "pig_len = len(pig_seq)\n",
    "\n",
    "whale_seq = (\"MVHLTAEEKSAVTALWAKVNVEEIGGEALGRLLVVYPWTQRFFEHFGDLSTADAVMKNAS\"\n",
    "             \"VKSHGKKVLASFSEGLKHFDNLKGTFAQLSELHCDKLHVDPENFRLLGNVLVVVLARHFG\"\n",
    "             \"KEFTPELQTAFQKLVAGVANALAHKYH\")\n",
    "\n",
    "whale_len = len(whale_seq)\n",
    "\n",
    "hippo_seq = (\"VHLTAEEKDAVLGLWGKVNVQEVGGEALGRLLVVYPWTQRFFESFGDLSSADAVMNNPKV\"\n",
    "             \"KAHGKKVLDSFADGLKHLDNLKGTFAALSELHCDQLHVDPENFRLLGNELVVVLARTFGK\"\n",
    "             \"EFTPELQAAYQKVVAGVANALAHRYH\")\n",
    "\n",
    "hippo_len = len(hippo_seq)"
   ]
  },
  {
   "cell_type": "code",
   "execution_count": 4,
   "metadata": {},
   "outputs": [
    {
     "name": "stdout",
     "output_type": "stream",
     "text": [
      "pig_len: 146\n",
      "whale_len: 147\n",
      "hippo_len: 146\n",
      "\n"
     ]
    }
   ],
   "source": [
    "print(f\"pig_len: {pig_len}\\nwhale_len: {whale_len}\\nhippo_len: {hippo_len}\\n\")"
   ]
  },
  {
   "cell_type": "markdown",
   "metadata": {},
   "source": [
    "#### Since the sequences are not of equal length, we must normalize them.\n",
    "Pick minimum length sequence and cut down the longer ones to that size. The minimum seqence length is 146 (found in both the hippo and the pig)"
   ]
  },
  {
   "cell_type": "markdown",
   "metadata": {},
   "source": [
    "### Normalization Approach: \n",
    "Sequences are aligned at the beginning of the sequence (N-terminal). The tails of the longer sequences are cut."
   ]
  },
  {
   "cell_type": "code",
   "execution_count": 5,
   "metadata": {},
   "outputs": [
    {
     "name": "stdout",
     "output_type": "stream",
     "text": [
      "minimum length of sequence: 146\n"
     ]
    }
   ],
   "source": [
    "min_len = min(pig_len, whale_len, hippo_len)\n",
    "print(f\"minimum length of sequence: {min_len}\")"
   ]
  },
  {
   "cell_type": "markdown",
   "metadata": {},
   "source": [
    "### Normalize:\n",
    "#### Cut the tail"
   ]
  },
  {
   "cell_type": "code",
   "execution_count": 6,
   "metadata": {},
   "outputs": [],
   "source": [
    "# Normalize all sequences to the length of the shortest sequence\n",
    "pig_seq_norm = pig_seq[:min_len]\n",
    "whale_seq_norm = whale_seq[:min_len]\n",
    "hippo_seq_norm = hippo_seq[:min_len]\n",
    "#print(f\"pig: {pig_seq_norm}\\nwhale: {whale_seq_norm}\\nhippo: {hippo_seq_norm}\")"
   ]
  },
  {
   "cell_type": "markdown",
   "metadata": {},
   "source": [
    "### Pairings:\n",
    "- Pig and Whale\n",
    "- Pig and Hippo\n",
    "- Whale and Hippo"
   ]
  },
  {
   "cell_type": "code",
   "execution_count": 7,
   "metadata": {},
   "outputs": [
    {
     "name": "stdout",
     "output_type": "stream",
     "text": [
      "Hamming distance between Pig and Whale: 32\n",
      "Hamming distance between Pig and Hippo: 130\n",
      "Hamming distance between Whale and Hippo: 134\n"
     ]
    }
   ],
   "source": [
    "# Compute Hamming distances\n",
    "pig_v_whale = hamming_distance(pig_seq_norm, whale_seq_norm)\n",
    "pig_v_hippo = hamming_distance(pig_seq_norm, hippo_seq_norm)\n",
    "whale_v_hippo = hamming_distance(whale_seq_norm, hippo_seq_norm)\n",
    "\n",
    "# Output results\n",
    "print(f\"Hamming distance between Pig and Whale: {pig_v_whale}\")\n",
    "print(f\"Hamming distance between Pig and Hippo: {pig_v_hippo}\")\n",
    "print(f\"Hamming distance between Whale and Hippo: {whale_v_hippo}\")\n"
   ]
  },
  {
   "cell_type": "markdown",
   "metadata": {},
   "source": [
    "#### Comparing hippo to a pig vs. whale:\n",
    "We want the smallest difference between sequences.\n",
    "\n",
    "In alligning from the start, the hippopotamus is more closely related to the pig than to the whale, but overall, the pig and whale are more similar to each other than either is to the hippopotamus."
   ]
  },
  {
   "cell_type": "markdown",
   "metadata": {},
   "source": [
    "#### Cut the start"
   ]
  },
  {
   "cell_type": "code",
   "execution_count": 8,
   "metadata": {},
   "outputs": [
    {
     "name": "stdout",
     "output_type": "stream",
     "text": [
      "Hamming distance between Pig and Whale: 131\n",
      "Hamming distance between Pig and Hippo: 130\n",
      "Hamming distance between Whale and Hippo: 24\n"
     ]
    }
   ],
   "source": [
    "# Normalize all sequences to the length of the shortest sequence\n",
    "pig_start = pig_len - min_len\n",
    "whale_start = whale_len - min_len\n",
    "hippo_start = hippo_len - min_len\n",
    "\n",
    "pig_seq_norm = pig_seq[pig_start:]\n",
    "whale_seq_norm = whale_seq[whale_start:]\n",
    "hippo_seq_norm = hippo_seq[hippo_start:]\n",
    "\n",
    "# Compute Hamming distances\n",
    "pig_v_whale = hamming_distance(pig_seq_norm, whale_seq_norm)\n",
    "pig_v_hippo = hamming_distance(pig_seq_norm, hippo_seq_norm)\n",
    "whale_v_hippo = hamming_distance(whale_seq_norm, hippo_seq_norm)\n",
    "\n",
    "# Output results\n",
    "print(f\"Hamming distance between Pig and Whale: {pig_v_whale}\")\n",
    "print(f\"Hamming distance between Pig and Hippo: {pig_v_hippo}\")\n",
    "print(f\"Hamming distance between Whale and Hippo: {whale_v_hippo}\")\n"
   ]
  },
  {
   "cell_type": "markdown",
   "metadata": {},
   "source": [
    "#### Hippo Results:\n",
    "When alligning from the end, the hippopotamus is more closely related to the whale than to the pig. The alignment between the whale and hippo (24) is much better than when comparing from the start (134).\n",
    "\n",
    "This indicates that is it impotant to consider whether the start of the end of the sequence contains more significant information."
   ]
  },
  {
   "cell_type": "markdown",
   "metadata": {},
   "source": [
    "Based on the smaller Hamming distance, I say that the whale and the hippo are more closely related than the pig and the hippo. The differening results from the normalization make it difficult to give a concrete answer, but this highlights the limitations of using the Hamming distance since alignment can have such a big inpact on the results."
   ]
  },
  {
   "cell_type": "markdown",
   "metadata": {},
   "source": [
    "### Limitations:\n",
    "#### 1. Loss of information\n",
    "   Since the tails of the longer sequences were cut, mismatches toward the end are excluded. This can be a useful approach if the biological significance of the protein is concentrated at the beginning, but this may omit meaningful data from the latter part of the sequences. This means that the requirement for equal length may lead to loss of information. \n",
    "\n",
    "#### 2. Biological considerations\n",
    "   This calcultation does not take biological context into account and is purely a computational approach. This means that that some information regarding dependencies in the protein structures might be omited.\n"
   ]
  },
  {
   "cell_type": "markdown",
   "metadata": {},
   "source": [
    "### References:\n",
    "- Information on hemoglobin subunit beta: https://en.wikipedia.org/wiki/Hemoglobin_subunit_beta\n",
    "- Why cut the tail? Information of importance of the N-terminus: https://en.wikipedia.org/wiki/N-terminus\n",
    "- More information of hamming distance in biology: https://fiveable.me/key-terms/introduction-computational-molecular-biology/hamming-distance\n",
    "\n",
    "#### Code:\n",
    "- Merge two sequences using zip() function: https://www.geeksforgeeks.org/zip-in-python/#\n",
    "- Sample computation with zip: https://stackoverflow.com/questions/54172831/hamming-distance-between-two-strings-in-python"
   ]
  },
  {
   "cell_type": "code",
   "execution_count": null,
   "metadata": {},
   "outputs": [],
   "source": []
  }
 ],
 "metadata": {
  "kernelspec": {
   "display_name": "Python 3 (ipykernel)",
   "language": "python",
   "name": "python3"
  },
  "language_info": {
   "codemirror_mode": {
    "name": "ipython",
    "version": 3
   },
   "file_extension": ".py",
   "mimetype": "text/x-python",
   "name": "python",
   "nbconvert_exporter": "python",
   "pygments_lexer": "ipython3",
   "version": "3.13.0"
  }
 },
 "nbformat": 4,
 "nbformat_minor": 4
}
