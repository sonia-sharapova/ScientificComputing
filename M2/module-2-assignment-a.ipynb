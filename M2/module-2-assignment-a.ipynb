{
 "cells": [
  {
   "attachments": {},
   "cell_type": "markdown",
   "metadata": {},
   "source": [
    "# Exercise 1 \n",
    "------------\n",
    "\n",
    "Based on the standard genetic code codon table, which of the three codon positions (first, second or third) is most sensitive to a mutation?  That is, at which position in a codon would a nucleotide substitution be most likely to change the amino acid.  How much more likely than the least sensitive position?  \n",
    "\n",
    "Please explain your answer and show any relevant evidence you have from your work to support your answer.\n",
    "\n",
    ">Hint: The correct answer will require computation, not intuition."
   ]
  },
  {
   "cell_type": "markdown",
   "metadata": {},
   "source": [
    "Approach: Calculate the percentage of mutations at each position that lead to a change in the encoded amino acid. \n",
    "- Look at the entire codon table\n",
    "- count the number of synonymous and non-synonymous mutations for each position."
   ]
  },
  {
   "cell_type": "code",
   "execution_count": 1,
   "metadata": {},
   "outputs": [
    {
     "name": "stdout",
     "output_type": "stream",
     "text": [
      "first position sensitivity: 0.9583333333333334\n",
      "second position sensitivity: 0.9895833333333334\n",
      "third position sensitivity: 0.3333333333333333\n"
     ]
    }
   ],
   "source": [
    "import pandas as pd\n",
    "\n",
    "# map the codons to amino acids\n",
    "codon_table = {\n",
    "    'UUU': 'Phe', 'UUC': 'Phe', 'UUA': 'Leu', 'UUG': 'Leu',\n",
    "    'UCU': 'Ser', 'UCC': 'Ser', 'UCA': 'Ser', 'UCG': 'Ser',\n",
    "    'UAU': 'Tyr', 'UAC': 'Tyr', 'UAA': 'Stop', 'UAG': 'Stop',\n",
    "    'UGU': 'Cys', 'UGC': 'Cys', 'UGA': 'Stop', 'UGG': 'Trp',\n",
    "    'CUU': 'Leu', 'CUC': 'Leu', 'CUA': 'Leu', 'CUG': 'Leu',\n",
    "    'CCU': 'Pro', 'CCC': 'Pro', 'CCA': 'Pro', 'CCG': 'Pro',\n",
    "    'CAU': 'His', 'CAC': 'His', 'CAA': 'Gln', 'CAG': 'Gln',\n",
    "    'CGU': 'Arg', 'CGC': 'Arg', 'CGA': 'Arg', 'CGG': 'Arg',\n",
    "    'AUU': 'Ile', 'AUC': 'Ile', 'AUA': 'Ile', 'AUG': 'Met',\n",
    "    'ACU': 'Thr', 'ACC': 'Thr', 'ACA': 'Thr', 'ACG': 'Thr',\n",
    "    'AAU': 'Asn', 'AAC': 'Asn', 'AAA': 'Lys', 'AAG': 'Lys',\n",
    "    'AGU': 'Ser', 'AGC': 'Ser', 'AGA': 'Arg', 'AGG': 'Arg',\n",
    "    'GUU': 'Val', 'GUC': 'Val', 'GUA': 'Val', 'GUG': 'Val',\n",
    "    'GCU': 'Ala', 'GCC': 'Ala', 'GCA': 'Ala', 'GCG': 'Ala',\n",
    "    'GAU': 'Asp', 'GAC': 'Asp', 'GAA': 'Glu', 'GAG': 'Glu',\n",
    "    'GGU': 'Gly', 'GGC': 'Gly', 'GGA': 'Gly', 'GGG': 'Gly'\n",
    "}\n",
    "\n",
    "def count_mutations(codon_table):\n",
    "    '''\n",
    "    Function to count the synonymous and non-synonymous mutations at each codon position\n",
    "\n",
    "    Inputs:\n",
    "      codon_table (map): map of the codon table\n",
    "\n",
    "    Returns:\n",
    "      first_pos, second_pos, third_pos (float): the sensitivity each position has to mutations\n",
    "    '''\n",
    "    nucleotides = ['U', 'C', 'A', 'G']\n",
    "    first_changes = 0\n",
    "    second_changes = 0\n",
    "    third_changes = 0\n",
    "    first_mut = 0\n",
    "    sec_mut = 0\n",
    "    third_mut = 0\n",
    "\n",
    "    for codon, amino_acid in codon_table.items():\n",
    "        # Calculate the mutations at the first position\n",
    "        for n in nucleotides:\n",
    "            if n != codon[0]:\n",
    "                mutated_codon = n + codon[1] + codon[2]\n",
    "                if codon_table.get(mutated_codon) and codon_table[mutated_codon] != amino_acid:\n",
    "                    first_changes += 1\n",
    "                first_mut += 1\n",
    "\n",
    "        # second position\n",
    "        for n in nucleotides:\n",
    "            if n != codon[1]:\n",
    "                mutated_codon = codon[0] + n + codon[2]\n",
    "                if codon_table.get(mutated_codon) and codon_table[mutated_codon] != amino_acid:\n",
    "                    second_changes += 1\n",
    "                sec_mut += 1\n",
    "\n",
    "        # third position\n",
    "        for n in nucleotides:\n",
    "            if n != codon[2]:\n",
    "                mutated_codon = codon[0] + codon[1] + n\n",
    "                if codon_table.get(mutated_codon) and codon_table[mutated_codon] != amino_acid:\n",
    "                    third_changes += 1\n",
    "                third_mut += 1\n",
    "\n",
    "    # calculate percentage of mutations changing amino acid\n",
    "    first_pos = first_changes / first_mut\n",
    "    second_pos = second_changes / sec_mut\n",
    "    third_pos = third_changes / third_mut\n",
    "\n",
    "    return first_pos, second_pos, third_pos\n",
    "\n",
    "first_pos, second_pos, third_pos = count_mutations(codon_table)\n",
    "\n",
    "print(f\"first position sensitivity: {first_pos}\\nsecond position sensitivity: {second_pos}\\nthird position sensitivity: {third_pos}\")\n"
   ]
  },
  {
   "cell_type": "markdown",
   "metadata": {},
   "source": [
    "### Results:"
   ]
  },
  {
   "cell_type": "markdown",
   "metadata": {},
   "source": [
    "First position: 95.83% of mutations lead to a change in the amino acid.\n",
    "Second position: 98.96% of mutations lead to a change in the amino acid.\n",
    "Third position: 33.33% of mutations lead to a change in the amino acid.\n",
    "\n",
    "These results show that the second position is the most sensitive to mutations. 98.9% of mutations leading to a change in the encoded amino acid, compared to 95.8% in the first position (close but a little less), and 33.3% in the third position. This shows that the third position is the least sensitive, so mutations in this position do not have much of an affect on the amino acid formed. This is consistent with the article linked below.\n",
    "\n",
    "Answer: a mutation in the second position is most likely to affect the amino acid formed."
   ]
  },
  {
   "cell_type": "markdown",
   "metadata": {},
   "source": [
    "#### References:\n",
    "Mutation effects on amino acids: https://www.thetech.org/ask-a-geneticist/articles/2022/why-three-base-codon/#:~:text=The%20third%20position%20that%20is,a%20lot%20of%20amino%20acids.\n"
   ]
  },
  {
   "attachments": {},
   "cell_type": "markdown",
   "metadata": {},
   "source": [
    "# Exercise 2\n",
    "-------------\n",
    "\n",
    "In molecular biology and genetics, GC-content (or guanine-cytosine content) is the percentage of nitrogenous bases in a DNA or RNA molecule that are either guanine (G) or cytosine (C). \n",
    "\n",
    "\n",
    "![](https://upload.wikimedia.org/wikipedia/commons/thumb/1/1a/AT-GC.jpg/320px-AT-GC.jpg)\n",
    "\n",
    "_Nucleotide bonds showing AT and GC pairs. Arrows point to the hydrogen bonds._\n",
    "\n",
    "This measure indicates the proportion of G and C bases out of an implied four total bases, also including adenine and thymine in DNA and adenine and uracil in RNA. GC-content may be given for a certain fragment of DNA or RNA or for an entire genome and is typically expressed as a percentage value using the formula:\n",
    "\n",
    "$ \\frac{(G+C)}{(A+T+G+C)} * 100 $\n",
    "\n",
    "GC-rich regions of a genome typically include many protein-coding genes within them, Determination of GC-ratios of these specific regions contributes to mapping gene-rich regions of the genome. Also, since G+C bonds are stronger than A+T bonds, differences in GC-content can indicate differences in the properties of the DNA.\n",
    "\n",
    "Calculcate the GC-content for each of the following sequences in the multiple DNA sequences file (multiple_DNA.fasta). Print out the description headers and GC-content in the following format: \n",
    "```\n",
    "- >description | GC-content \n",
    "- >description | GC-content \n",
    "...\n",
    "```"
   ]
  },
  {
   "cell_type": "code",
   "execution_count": 2,
   "metadata": {},
   "outputs": [],
   "source": [
    "# Your solution here...."
   ]
  },
  {
   "cell_type": "code",
   "execution_count": null,
   "metadata": {},
   "outputs": [],
   "source": []
  },
  {
   "cell_type": "markdown",
   "metadata": {},
   "source": [
    "What are some properties and/or behaviors of genes that can be inferred from C-G content?"
   ]
  },
  {
   "cell_type": "code",
   "execution_count": 3,
   "metadata": {},
   "outputs": [],
   "source": [
    "# Your answer here..."
   ]
  },
  {
   "attachments": {},
   "cell_type": "markdown",
   "metadata": {},
   "source": [
    "# Exercise 3\n",
    "------------\n",
    "\n",
    "A recent report has suggested that Human SARS-CoV-2 has evolved to reduce CG dinucleotide in its open reading frames[1]. The authors suggest that this allows the SARS-Cov-2 virus to reproduce more efficiently in host cells becuase of reduced stability.\n",
    "\n",
    "It is also suggested that SARS-CoV-2 is more efficient in reproduction than other coronaviruses, because less energy is consumed in disrupting the stem-loops formed by its genomic RNA. The stability of a stem-loop structure is dependent on number of hydrogen bonds formed between bases in the stem part. Because C-G and T-A base-pairs are formed through three and two hydrogen bonds respectively, a viral RNA strand with high number of C and G bases will form more stable stem-loops than that with high number of T and A bases.\n",
    "\n",
    "Using your solutions from the previous exercises, identify all the ORFs and compute the average CG-content for each genome. Assess whether this claim is consistent with the fatality ratios frum Human MERS-Cov and Human SARS-Cov[2].  \n",
    "\n",
    ">The approach we are using here is simplified compared to the full experiment conducted by Wang et. al., however, it is still useful to gain some insights.\n",
    "\n",
    "The genome sequences can be found in the following files: `data/human_sars-cov.fasta`, `data/human_sars_cov-2.fasta`, and `data/human_mers_cov.fasta`."
   ]
  },
  {
   "cell_type": "markdown",
   "metadata": {},
   "source": [
    "| Coronavirus | ID | Fatality Ratio | No. ORFs | Avg. GC-content |\n",
    "|-------------|----|----------------|------|-----------|\n",
    "| Human MERS-CoV | JX869059.2 | 39% | ? | ? |\n",
    "| Human SARS-CoV | KY352407.1 | 9% | ? | ? |\n",
    "| Human SARS-CoV-2 | NC_045512.2 | 2.4% | ? | ? |\n"
   ]
  },
  {
   "cell_type": "code",
   "execution_count": 4,
   "metadata": {},
   "outputs": [],
   "source": [
    "# Complete the above table with your ORF and CG-content values and briefly explain your results and conclusion"
   ]
  },
  {
   "cell_type": "code",
   "execution_count": 5,
   "metadata": {},
   "outputs": [],
   "source": [
    "def load_fasta(file_path):\n",
    "    with open(file_path, 'r') as file:\n",
    "        sequence = ''\n",
    "        for line in file:\n",
    "            if not line.startswith('>'):\n",
    "                sequence += line.strip()\n",
    "    return sequence\n"
   ]
  },
  {
   "cell_type": "code",
   "execution_count": 6,
   "metadata": {},
   "outputs": [],
   "source": [
    "def find_orfs(sequence):\n",
    "    start_codon = 'ATG'\n",
    "    stop_codons = ['TAA', 'TAG', 'TGA']\n",
    "    orfs = []\n",
    "    for i in range(0, len(sequence) - 2, 3):\n",
    "        codon = sequence[i:i+3]\n",
    "        if codon == start_codon:\n",
    "            for j in range(i + 3, len(sequence) - 2, 3):\n",
    "                stop_codon = sequence[j:j+3]\n",
    "                if stop_codon in stop_codons:\n",
    "                    orfs.append(sequence[i:j+3])\n",
    "                    break\n",
    "    return orfs\n"
   ]
  },
  {
   "cell_type": "code",
   "execution_count": 7,
   "metadata": {},
   "outputs": [],
   "source": [
    "def compute_cg_content(orf):\n",
    "    cg_count = orf.count('C') + orf.count('G')\n",
    "    return cg_count / len(orf)\n",
    "\n",
    "def average_cg_content(orfs):\n",
    "    total_cg_content = sum(compute_cg_content(orf) for orf in orfs)\n",
    "    return total_cg_content / len(orfs)\n"
   ]
  },
  {
   "cell_type": "code",
   "execution_count": 8,
   "metadata": {},
   "outputs": [
    {
     "name": "stdout",
     "output_type": "stream",
     "text": [
      "Human SARS-CoV-2: 116 ORFs, Avg. CG-content: 0.3596\n",
      "Human SARS-CoV: 150 ORFs, Avg. CG-content: 0.3773\n",
      "Human MERS-CoV: 299 ORFs, Avg. CG-content: 0.4013\n"
     ]
    }
   ],
   "source": [
    "# loading sequences\n",
    "sars_cov2_seq = load_fasta('data/human_sars_cov-2.fasta')\n",
    "sars_cov_seq = load_fasta('data/human_sars-cov.fasta')\n",
    "mers_cov_seq = load_fasta('data/human_mers_cov.fasta')\n",
    "\n",
    "# finding open reading frames\n",
    "sars_cov2_orfs = find_orfs(sars_cov2_seq)\n",
    "sars_cov_orfs = find_orfs(sars_cov_seq)\n",
    "mers_cov_orfs = find_orfs(mers_cov_seq)\n",
    "\n",
    "# calculating the average CG-content for each genome\n",
    "sars_cov2_avg_cg = average_cg_content(sars_cov2_orfs)\n",
    "sars_cov_avg_cg = average_cg_content(sars_cov_orfs)\n",
    "mers_cov_avg_cg = average_cg_content(mers_cov_orfs)\n",
    "\n",
    "# Print results\n",
    "print(f\"Human SARS-CoV-2: {len(sars_cov2_orfs)} ORFs, Avg. CG-content: {sars_cov2_avg_cg:.4f}\")\n",
    "print(f\"Human SARS-CoV: {len(sars_cov_orfs)} ORFs, Avg. CG-content: {sars_cov_avg_cg:.4f}\")\n",
    "print(f\"Human MERS-CoV: {len(mers_cov_orfs)} ORFs, Avg. CG-content: {mers_cov_avg_cg:.4f}\")\n"
   ]
  },
  {
   "cell_type": "markdown",
   "metadata": {},
   "source": []
  },
  {
   "cell_type": "markdown",
   "metadata": {},
   "source": [
    "### Observations:\n",
    "\n",
    "#### Average CG-Content Comparison:\n",
    "- Human SARS-CoV-2: 116 ORFs, Avg. CG-content: 0.3596\n",
    "- Human SARS-CoV: 150 ORFs, Avg. CG-content: 0.3773\n",
    "- Human MERS-CoV: 299 ORFs, Avg. CG-content: 0.4013\n",
    "\n",
    "From these results, we observe that Human SARS-CoV-2 has the lowest average CG-content (35.96%) among the three viruses, followed by Human SARS-CoV (37.73%), and Human MERS-CoV has the highest CG-content (40.13%).\n",
    "\n",
    "#### Correlation with Fatality Ratios:\n",
    "The fatality ratios for the three viruses are as follows:\n",
    "\n",
    "- Human MERS-CoV: 39% fatality ratio.\n",
    "- Human SARS-CoV: 9% fatality ratio.\n",
    "- Human SARS-CoV-2: 2.4% fatality ratio.\n",
    "  \n",
    "Trend: higher CG-content correlates with a higher fatality ratio\n",
    "\n",
    "- MERS-CoV, which has the highest CG-content (40.13%), also has the highest fatality ratio (39%).\n",
    "- SARS-CoV, with a CG-content of 37.73%, has a moderate fatality ratio (9%).\n",
    "- SARS-CoV-2, with the lowest CG-content (35.96%), has the lowest fatality ratio (2.4%).\n",
    "  \n",
    "#### Conclusion:\n",
    "These findings suggest a trade-off between RNA stability and reproduction efficiency across the three coronaviruses, where SARS-CoV-2 has evolved to reduce CG-content in a way that potentially enhances its ability to reproduce efficiently within host cells, contributing to its lower fatality rate but higher transmission rate. Conversely, MERS-CoV, with higher CG-content, may reproduce less efficiently but cause more severe disease when infection occurs.\n",
    "\n",
    "These results align with the hypothesis proposed by Wang et al. (2020), and while this is a simplified analysis, it provides valuable insights into the relationship between viral RNA structure, reproduction efficiency, and fatality."
   ]
  },
  {
   "cell_type": "markdown",
   "metadata": {},
   "source": [
    "\n",
    "References:\n",
    "1. Wang, Y., Mao, JM., Wang, GD. et al. Human SARS-CoV-2 has evolved to reduce CG dinucleotide in its open reading frames. Sci Rep 10, 12331 (2020). https://doi.org/10.1038/s41598-020-69342-y\n",
    "2. Peeri, N. C. et al. The SARS, MERS and novel coronavirus (COVID-19) epidemics, the newest and biggest global health threats: what lessons have we learned?. Int. J. Epidemiol. https://doi.org/10.1093/ije/dyaa033 (2020)."
   ]
  },
  {
   "attachments": {},
   "cell_type": "markdown",
   "metadata": {},
   "source": [
    "\n",
    "# Exercise 4. CpG Islands\n",
    "-------------------------\n",
    "CpG islands are often found in the 5' regions of vertebrate genes, therefore this program can be used to highlight potential genes in genomic sequence and were first described by [Gardiner-Garden and Frommer (1987)](fromer-1987.pdf) [1].\n",
    "\n",
    "The calculation is performed using a 200 bp window moving across the sequence at 1bp intervals. CpG islands are defined as sequence ranges where the `Observed`/`Expected` value is greater than 0.6 and the `GC` content is greater than 50%. The expected number of CpG dimers in a window is calculated as the number of `C`s in the window multiplied by the number of `G`s in the window, divided by the window length.  \n",
    "\n",
    "In 2002, Takai and Jones published an improved algorithm for identifying CpG islands in genomes, [Comprehensive analysis of CpG islands in human chromosomes 21 and 22 - PubMed](takai-jones-2002-comprehensive-analysis-of-cpg-islands-in-human-chromosomes-21-and-22.pdf), that tweaked some of the parameters and identified some new thresholds to consider. Identification of CpG islands is still a very active research topic and today makes use of advanced mathematical and computational approaches.\n",
    "\n",
    "Implement the Gardiner-Garden and Frommer algorithm and use it to identify all the CpG islands in Human [Chromosome 21](https://www.ncbi.nlm.nih.gov/nuccore/NC_000021?report=fasta). Due to the size of this file, you will need to download it locally and put it in the `data/` directory.\n",
    "\n",
    "> Note: You can ignore the `N` character in the sequence because you do not know if it is C or G.\n",
    "\n",
    "\n",
    "References \n",
    "1. [Gardiner-Garden and Frommer (1987) - PubMed](https://pubmed.ncbi.nlm.nih.gov/3656447/)\n",
    "2. [Comprehensive analysis of CpG islands in human chromosomes 21 and 22 - PubMed](https://pubmed.ncbi.nlm.nih.gov/11891299/)"
   ]
  },
  {
   "cell_type": "markdown",
   "metadata": {},
   "source": [
    "## Example of finding CpG Islands\n",
    "Given the following sequence:\n",
    "```\n",
    "taacatacttattgtttttaactactcgttttccattcgactcatcacgctccccccccc\n",
    "cccccccccccttatccgttccgttcgacgtatttcgttgtctaatttctgacgtaactt\n",
    "gttccctgttaagtaccgtttatggcctatactccggtatttaaaacgacgacgattcca\n",
    "ccgtaaagccgtcaaccagatgaacgacctcgctcgttatatttttccggcaaaatccct\n",
    "atttccgattcgcttagtgctaccgacgctatatcgttccgcaattcctcgagatcatcg\n",
    "atttcttctccggcgacgtctcaagtttttccgttacaacgcgatctatcctgtaaattc\n",
    "gaccgcgctcattctcacgttttatacattgcgcagttgattacgctaaataatccgctg\n",
    "actgttaccttccctgttagattcgcgcattataaactacttactttaacaaacgatttt\n",
    "cacagtttaatttctgcgatgacgtctaactcttcagttttaaccgataacaaccttctc\n",
    "gacacttcgtttcttataccatcctcgttatccatacccattcttaaatttctcactact\n",
    "attctctttacaaccacattagctctaatcttacatctaatttctatacataaaatgctc\n",
    "cttctgctgtatgtttctctttctcataattacatttttaattactaaatccctcatccc\n",
    "tcccacccatctattccaccatcaaggttatacaccatgtattactgtaaaacccactaa\n",
    "tattaattgtcaccgatattaaacgaaattcattcacacaaatttcattaattacctttt\n",
    "cttattaattgcatatgtactctacatatactcaaccaactaaaaatcgatattttacat\n",
    "ttgatttctaatgtaccccacaactttcttgctttatgattgaacttagctttataataa\n",
    "tagttatttaccctaacgcatatactcttatccttatatgaaccttgcttatttgttaga\n",
    "tttatccaatctaaaccacagataatatcccttctcttacttcattttattatcaccatt\n",
    "ttcacttcttcctagatatatacaattatataactctattaccacattttcccttaactt\n",
    "tctgttctgcactattatatttactctttttctaaaaccttcttaactttttcagatgca\n",
    "```\n",
    "The following CpG islands can be detected:\n",
    "\n",
    "```\n",
    "CpG island detected in region 32 to 231 (Obs/Exp = 1.75 and %GC = 50.50) \n",
    "CpG island detected in region 33 to 232 (Obs/Exp = 1.75 and %GC = 50.50)\n",
    "```\n",
    "\n",
    "\n",
    "## Examples of CpG Island Finding Programs\n",
    "The following are online CpG island calculators to use as references.\n",
    "* [CpG Islands](https://www.genscript.com/sms2/cpg_islands.html)\n",
    "* [EMBOSS: cpgplot](http://emboss.sourceforge.net/apps/release/6.3/emboss/apps/cpgplot.html)\n",
    "\n"
   ]
  },
  {
   "cell_type": "code",
   "execution_count": null,
   "metadata": {},
   "outputs": [],
   "source": []
  },
  {
   "cell_type": "markdown",
   "metadata": {},
   "source": []
  },
  {
   "cell_type": "code",
   "execution_count": null,
   "metadata": {},
   "outputs": [],
   "source": []
  }
 ],
 "metadata": {
  "kernelspec": {
   "display_name": "Python 3 (ipykernel)",
   "language": "python",
   "name": "python3"
  },
  "language_info": {
   "codemirror_mode": {
    "name": "ipython",
    "version": 3
   },
   "file_extension": ".py",
   "mimetype": "text/x-python",
   "name": "python",
   "nbconvert_exporter": "python",
   "pygments_lexer": "ipython3",
   "version": "3.13.0"
  }
 },
 "nbformat": 4,
 "nbformat_minor": 4
}
