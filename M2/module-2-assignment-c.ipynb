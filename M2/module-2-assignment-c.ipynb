{
 "cells": [
  {
   "attachments": {},
   "cell_type": "markdown",
   "metadata": {},
   "source": [
    "# DNA Digital Drives\n",
    "------------------\n",
    "\n",
    "\n",
    "> Humanity has a data storage problem: More data were created in the past 2 years than in all of preceding history. And that torrent of information may soon outstrip the ability of hard drives to capture it. Now, researchers report that they've come up with a new way to encode digital data in DNA to create the highest-density large-scale data storage scheme ever invented. Capable of storing 215 petabytes (215 million gigabytes) in a single gram of DNA, the system could, in principle, store every bit of datum ever recorded by humans in a container about the size and weight of a couple of pickup trucks. But whether the technology takes off may depend on its cost. [1]\n",
    "\n",
    "While there are still technical hurdles to overcome with biology (mostly in decoding the DNA drive [2]), there have been several successful projects that have shown proof-of-concept [3]. However, the seemingly straightforward task has not settled on a consistent approach to encoding text-to-DNA. In fact, a search of the literature show that there are quite a few different strategies, considerations, and approaches that are being pursued.\n",
    "\n",
    "Now it is your turn to enter the field and write a \"DNA-to-text\" encoder and decoder. You may utlize any of the references below for ideas, inspiration, or specific algorithms. You do not need to develop a completely novel approach, but you must be able to __explain your approach, and support your rationale for all the decisions you made__. Do not forget about punctuation and numbers.\n",
    "\n",
    "In addition, please create a short (no longer than 5 minutes) video explaining the background of the problem, your approach, details of your implemention, and a working demonstration of encoding and decoding the following text:\n",
    ">\"When in the Course of human events, it becomes necessary for one people to dissolve the political bands which have connected them with another, and to assume among the powers of the earth, the separate and equal station to which the Laws of Nature and of Nature's God entitle them, a decent respect to the opinions of mankind requires that they should declare the causes which impel them to the separation.\"\n",
    "\n",
    "You do not need to do a complete code walkthrough, but just an overview of how you implemented it. The presentation does not need to have a high-production value. It can be just be you presenting slides with a talking head and does not need to be edited. This functionality is availalbe directly in Panopto\n",
    "\n",
    "Upload your video to Panopto for students to view at this link: https://uchicago.hosted.panopto.com/Panopto/Pages/Sessions/List.aspx?folderID=d4e15734-eebd-402b-a75d-b09100e92746\n",
    "\n",
    "\n",
    "Post a link to your video in the Slack `#showcase` channel using the following format:\n",
    "\n",
    "```\n",
    "    NAME:    <your name>\n",
    "    VIDEO:    https://uchicago.hosted.panopto.com/Panopto/<your link here>\n",
    "    DNA:     <Convert the string \"Let knowledge grow from more to more; and so be human life enriched.\" in DNA using your approach>\n",
    "```\n",
    "\n",
    "Commit you presentation slides and any supporting materials (ie. scripts) to the GitHub repository. Submit the GitHub URL to canvas.\n",
    "\n",
    "\n",
    "### References \n",
    "1. [DNA could store all of the world's data in one room](https://www.sciencemag.org/news/2017/03/dna-could-store-all-worlds-data-one-room)\n",
    "2. [Storing data in DNA is a lot easier than getting it back out](https://www.technologyreview.com/2018/01/26/145993/storing-data-in-dna-is-a-lot-easier-than-getting-it-back-out/)\n",
    "3. [Synthetic double-helix faithfully stores Shakespeare's sonnets | Nature](https://www.nature.com/articles/nature.2013.12279)\n",
    "\n",
    "### Additional References\n",
    "* [The Rise of DNA Data Storage](https://www.wired.com/story/the-rise-of-dna-data-storage/)\n",
    "* [Towards practical, high-capacity, low-maintenance information storage in synthesized DNA | Nature](https://www.nature.com/articles/nature11875)\n",
    "- [Nick Goldman talking about DNA Hard Drivers at the WEF2015](https://www.youtube.com/watch?v=tBvd7OSDGgQ)\n",
    "- [Goldman group DNA storage](http://www.ebi.ac.uk/research/goldman/dna-storage)\n",
    "- [Emily Leprous talking about DNA storage](https://vimeo.com/119612296)\n",
    "http://courses.cs.vt.edu/cs2104/Spring13Onufriev/LectureNotes/DNA.storage.pdf\n",
    "- [Hidding messages in DNA microdots](http://www.researchgate.net/profile/Carter_Bancroft/publication/12921709_Hiding_messages_in_DNA_microdots/links/0922b4f2ac1d18eb73000000.pdf)\n",
    "- [An improved Huffman coding method for archiving text, images, and music characters in DNA](http://www.biotechniques.com/multimedia/archive/00055/Supplementary_Materi_55848a.pdf)\n",
    "- [Bacterial based storage and encryption device](http://2010.igem.org/files/presentation/Hong_Kong-CUHK.pdf)\n",
    "- [The Xenotext Experiment](http://triplehelixblog.com/2014/01/the-xenotext-experiment/)\n",
    "- [If You Were a Secret Message, Where in the Human Genome Would You Hide?](http://nautil.us/blog/-if-you-were-a-secret-message-where-in-the-human-genome-would-you-hide)\n",
    "- [Store digital files for eons in silica-encased DNA](http://hackaday.com/2015/02/21/store-digital-files-for-eons-in-silica-encased-dna)"
   ]
  },
  {
   "cell_type": "markdown",
   "metadata": {},
   "source": [
    "## DNA Storage\n",
    "#### Original Text: \n",
    "When in the Course of human events, it becomes necessary for one people to dissolve the political bands which have connected them with another, and to assume among the powers of the earth, the separate and equal station to which the Laws of Nature and of Nature's God entitle them, a decent respect to the opinions of mankind requires that they should declare the causes which impel them to the separation.\n"
   ]
  },
  {
   "cell_type": "code",
   "execution_count": 2,
   "metadata": {},
   "outputs": [],
   "source": [
    "original_text = \"When in the Course of human events, it becomes necessary for one people to dissolve the political bands which have connected them with another, and to assume among the powers of the earth, the separate and equal station to which the Laws of Nature and of Nature's God entitle them, a decent respect to the opinions of mankind requires that they should declare the causes which impel them to the separation.\"\n"
   ]
  },
  {
   "cell_type": "code",
   "execution_count": 3,
   "metadata": {},
   "outputs": [],
   "source": [
    "# define the 3 x 3 matrix and the mapping from positions to DNA base pairs. \n",
    "# each position represents a unique DNA sequence. I chose diverse, mixed, and balanced combinations\n",
    "matrix_to_dna = {\n",
    "    (0, 0): 'ACG', (0, 1): 'TGC', (0, 2): 'GGA',\n",
    "    (1, 0): 'CTA', (1, 1): 'GTT', (1, 2): 'AAC',\n",
    "    (2, 0): 'TTG', (2, 1): 'CCA', (2, 2): 'GCT'\n",
    "}\n",
    "\n",
    "\n",
    "# Reverse map for decoding\n",
    "dna_to_matrix = {v: k for k, v in matrix_to_dna.items()}\n",
    "\n"
   ]
  },
  {
   "cell_type": "markdown",
   "metadata": {},
   "source": [
    "### Encoder (Text to DNA)\n",
    "Encode the text into binary and convert it into matrix positions"
   ]
  },
  {
   "cell_type": "code",
   "execution_count": 4,
   "metadata": {},
   "outputs": [
    {
     "name": "stdout",
     "output_type": "stream",
     "text": [
      "TGCTGCTGCGTTTGCCTACTAACGTGCCTATGCTGCTGCCTAGTTCTAACGCTAACGACGTGCCTACTATGCTGCCTAGTTCTAACGCTAACGACGTGCGTTTGCACGTGCCTACTAACGTGCCTATGCTGCACGCTAACGACGTGCACGACGGTTTGCCTAGTTGTTTGCGTTTGCTGCTGCGTTACGCTATGCGTTACGGTTTGCCTATGCTGCACGCTAACGACGTGCCTAGTTGTTTGCCTATGCCTAACGCTAACGACGTGCCTACTAACGTGCGTTTGCTGCTGCCTAGTTTGCTGCCTAACGTGCTGCCTAGTTCTAACGCTAACGACGTGCCTATGCTGCTGCGTTTGCCTATGCCTATGCTGCTGCCTAGTTCTATGCGTTTGCACGTGCGTTACGGTTACGCTAGTTACGACGCTAACGACGTGCCTACTATGCTGCGTTTGCACGACGCTAACGACGTGCCTAACGCTATGCCTATGCTGCTGCCTAACGGTTTGCCTAGTTGTTTGCCTAGTTTGCTGCCTATGCTGCTGCGTTACGGTTACGCTAACGACGTGCCTAGTTCTATGCCTATGCTGCTGCCTAACGGTTTGCCTATGCTGCTGCGTTACGGTTTGCGTTACGGTTTGCCTAACGTGCTGCGTTACGCTATGCGTTCTATGCACGCTAACGACGTGCCTATGCCTATGCCTAGTTGTTTGCGTTACGCTAACGCTAACGACGTGCCTAGTTGTTTGCCTAGTTCTATGCCTATGCTGCACGCTAACGACGTGCGTTACGACGTGCCTATGCTGCTGCCTAGTTGTTTGCGTTACGACGTGCCTAGTTACGTGCCTATGCTGCACGCTAACGACGTGCGTTTGCACGTGCCTAGTTGTTACGCTAACGACGTGCCTATGCACGTGCCTACTATGCTGCGTTACGGTTTGCGTTACGGTTTGCCTAGTTGTTTGCCTAGTTACGTGCGTTTGCCTATGCCTATGCTGCACGCTAACGACGTGCGTTTGCACGTGCCTACTAACGTGCCTATGCTGCACGCTAACGACGTGCGTTACGACGTGCCTAGTTGTTTGCCTAGTTACGTGCCTACTATGCTGCGTTTGCACGTGCCTACTATGCTGCCTAACGGTTTGCCTAACGTGCTGCCTAGTTACGACGCTAACGACGTGCCTAACGCTATGCCTAACGTGCTGCCTAGTTCTATGCCTATGCACGTGCGTTACGGTTACGCTAACGACGTGCGTTTGCGTTTGCCTACTAACGTGCCTACTATGCTGCCTAACGGTTTGCCTACTAACGACGCTAACGACGTGCCTACTAACGTGCCTAACGTGCTGCGTTTGCCTATGCCTATGCTGCACGCTAACGACGTGCCTAACGGTTTGCCTAGTTGTTTGCCTAGTTCTATGCCTAGTTCTATGCCTATGCTGCTGCCTAACGGTTTGCGTTTGCACGTGCCTATGCTGCTGCCTATGCACGACGCTAACGACGTGCGTTTGCACGTGCCTACTAACGTGCCTATGCTGCTGCCTAGTTTGCACGCTAACGACGTGCGTTTGCGTTTGCCTACTATGCTGCGTTTGCACGTGCCTACTAACGACGCTAACGACGTGCCTAACGTGCTGCCTAGTTCTATGCCTAGTTGTTTGCGTTTGCACGTGCCTACTAACGTGCCTATGCTGCTGCGTTACGCTAACGCTAGTTACGACGCTAACGACGTGCCTAACGTGCTGCCTAGTTCTATGCCTATGCACGACGCTAACGACGTGCGTTTGCACGTGCCTAGTTGTTACGCTAACGACGTGCCTAACGTGCTGCGTTACGGTTTGCGTTACGGTTTGCGTTTGCTGCTGCCTAGTTTGCTGCCTATGCTGCACGCTAACGACGTGCCTAACGTGCTGCCTAGTTTGCTGCCTAGTTGTTTGCCTAGTTCTATGCCTATGCGTTACGCTAACGACGTGCGTTTGCACGTGCCTACTAACGTGCCTATGCTGCACGCTAACGACGTGCGTTACGACGTGCCTAGTTGTTTGCGTTTGCGTTTGCCTATGCTGCTGCGTTACGCTATGCGTTACGGTTACGCTAACGACGTGCCTAGTTGTTTGCCTATGCCTAACGCTAACGACGTGCGTTTGCACGTGCCTACTAACGTGCCTATGCTGCACGCTAACGACGTGCCTATGCTGCTGCCTAACGTGCTGCGTTACGCTATGCGTTTGCACGTGCCTACTAACGACGCTAGTTACGACGCTAACGACGTGCGTTTGCACGTGCCTACTAACGTGCCTATGCTGCACGCTAACGACGTGCGTTACGGTTTGCCTATGCTGCTGCGTTACGACGTGCCTAACGTGCTGCGTTACGCTATGCCTAACGTGCTGCGTTTGCACGTGCCTATGCTGCACGCTAACGACGTGCCTAACGTGCTGCCTAGTTCTATGCCTATGCACGACGCTAACGACGTGCCTATGCTGCTGCGTTACGTGCTGCGTTTGCTGCTGCCTAACGTGCTGCCTAGTTACGACGCTAACGACGTGCGTTACGGTTTGCGTTTGCACGTGCCTAACGTGCTGCGTTTGCACGTGCCTACTATGCTGCCTAGTTGTTTGCCTAGTTCTAACGCTAACGACGTGCGTTTGCACGTGCCTAGTTGTTACGCTAACGACGTGCGTTTGCGTTTGCCTACTAACGTGCCTACTATGCTGCCTAACGGTTTGCCTACTAACGACGCTAACGACGTGCGTTTGCACGTGCCTACTAACGTGCCTATGCTGCACGCTAACGACGTGCACGGTTACGTGCCTAACGTGCTGCGTTTGCGTTTGCGTTACGGTTACGCTAACGACGTGCCTAGTTGTTTGCCTATGCCTAACGCTAACGACGTGCACGGTTCTATGCCTAACGTGCTGCGTTTGCACGTGCGTTTGCTGCTGCGTTACGCTATGCCTATGCTGCACGCTAACGACGTGCCTAACGTGCTGCCTAGTTCTATGCCTATGCACGACGCTAACGACGTGCCTAGTTGTTTGCCTATGCCTAACGCTAACGACGTGCACGGTTCTATGCCTAACGTGCTGCGTTTGCACGTGCGTTTGCTGCTGCGTTACGCTATGCCTATGCTGCACGCTATGCGTTTGCGTTACGGTTACGCTAACGACGTGCACGTGCGTTTGCCTAGTTGTTTGCCTATGCACGACGCTAACGACGTGCCTATGCTGCTGCCTAGTTCTATGCGTTTGCACGTGCCTACTATGCTGCGTTTGCACGTGCCTAGTTACGTGCCTATGCTGCACGCTAACGACGTGCGTTTGCACGTGCCTACTAACGTGCCTATGCTGCTGCCTAGTTTGCACGCTAGTTACGACGCTAACGACGTGCCTAACGTGCACGCTAACGACGTGCCTATGCACGTGCCTATGCTGCTGCCTAACGGTTTGCCTATGCTGCTGCCTAGTTCTATGCGTTTGCACGACGCTAACGACGTGCGTTACGCTATGCCTATGCTGCTGCGTTACGGTTTGCGTTACGACGTGCCTATGCTGCTGCCTAACGGTTTGCGTTTGCACGACGCTAACGACGTGCGTTTGCACGTGCCTAGTTGTTACGCTAACGACGTGCGTTTGCACGTGCCTACTAACGTGCCTATGCTGCACGCTAACGACGTGCCTAGTTGTTTGCGTTACGACGTGCCTACTATGCTGCCTAGTTCTATGCCTACTATGCTGCCTAGTTGTTTGCCTAGTTCTATGCGTTACGGTTACGCTAACGACGTGCCTAGTTGTTTGCCTATGCCTAACGCTAACGACGTGCCTAGTTTGCTGCCTAACGTGCTGCCTAGTTCTATGCCTACTAGTTTGCCTACTATGCTGCCTAGTTCTATGCCTATGCACGACGCTAACGACGTGCGTTACGCTATGCCTATGCTGCTGCGTTACGTGCTGCGTTTGCTGCTGCCTACTATGCTGCGTTACGCTATGCCTATGCTGCTGCGTTACGGTTACGCTAACGACGTGCGTTTGCACGTGCCTACTAACGTGCCTAACGTGCTGCGTTTGCACGACGCTAACGACGTGCGTTTGCACGTGCCTACTAACGTGCCTATGCTGCTGCGTTCTATGCACGCTAACGACGTGCGTTACGGTTTGCCTACTAACGTGCCTAGTTGTTTGCGTTTGCTGCTGCCTAGTTACGTGCCTATGCACGACGCTAACGACGTGCCTATGCACGTGCCTATGCTGCTGCCTAACGGTTTGCCTAGTTACGTGCCTAACGTGCTGCGTTACGCTATGCCTATGCTGCACGCTAACGACGTGCGTTTGCACGTGCCTACTAACGTGCCTATGCTGCACGCTAACGACGTGCCTAACGGTTTGCCTAACGTGCTGCGTTTGCTGCTGCGTTACGGTTTGCCTATGCTGCTGCGTTACGGTTACGCTAACGACGTGCGTTTGCGTTTGCCTACTAACGTGCCTACTATGCTGCCTAACGGTTTGCCTACTAACGACGCTAACGACGTGCCTACTATGCTGCCTAGTTTGCTGCGTTACGACGTGCCTATGCTGCTGCCTAGTTACGACGCTAACGACGTGCGTTTGCACGTGCCTACTAACGTGCCTATGCTGCTGCCTAGTTTGCACGCTAACGACGTGCGTTTGCACGTGCCTAGTTGTTACGCTAACGACGTGCGTTTGCACGTGCCTACTAACGTGCCTATGCTGCACGCTAACGACGTGCGTTACGGTTTGCCTATGCTGCTGCGTTACGACGTGCCTAACGTGCTGCGTTACGCTATGCCTAACGTGCTGCGTTTGCACGTGCCTACTATGCTGCCTAGTTGTTTGCCTAGTTCTAACGCTAGTTCTA\n"
     ]
    }
   ],
   "source": [
    "\n",
    "def text_to_binary(text):\n",
    "    '''\n",
    "    Function to convert text to binary\n",
    "    Ref: https://www.geeksforgeeks.org/python-convert-string-to-binary/\n",
    "\n",
    "    Inputs:\n",
    "      text (string): input text as string\n",
    "\n",
    "    Returns:\n",
    "      bin_text (string): binary representation of the text\n",
    "    ''' \n",
    "    bin_text = ''.join(format(ord(char), '08b') for char in text)\n",
    "    return bin_text\n",
    "\n",
    "def binary_to_matrix(bin_text):\n",
    "    '''\n",
    "    Function to split binary string into components of 2 bits where each components represents a matrix location\n",
    "    Ref: https://stackoverflow.com/questions/20024490/how-to-split-a-byte-string-into-separate-parts\n",
    "\n",
    "    Inputs:\n",
    "      bin_text (string): input binary text as string\n",
    "\n",
    "    Returns:\n",
    "      dna_matrix (list): matrix representation of binary string\n",
    "    ''' \n",
    "    dna_matrix = []\n",
    "    for i in range(0, len(bin_text), 2):\n",
    "        row = int(bin_text[i], 2)  # for row (1st bit)\n",
    "        col = int(bin_text[i + 1], 2)  # for column (2nd bit)\n",
    "        dna_matrix.append((row, col))\n",
    "\n",
    "    return dna_matrix\n",
    "    \n",
    "def encode_text_to_dna(text):\n",
    "    '''\n",
    "    Function to convert the text to a dna sequence representation\n",
    "\n",
    "    Inputs:\n",
    "      text (string): original text\n",
    "\n",
    "    Returns:\n",
    "      dna_sequence (string): the dna sequence representation of given text\n",
    "    ''' \n",
    "    \n",
    "    binary_text = text_to_binary(text)\n",
    "    matrix_positions = binary_to_matrix(binary_text) \n",
    "    \n",
    "    # map the matrix positions to DNA sequences\n",
    "    dna_sequence = ''.join(matrix_to_dna[pos] for pos in matrix_positions) \n",
    "    \n",
    "    return dna_sequence\n",
    "\n",
    "encoded_dna = encode_text_to_dna(original_text)\n",
    "print(encoded_dna)\n",
    "\n"
   ]
  },
  {
   "cell_type": "markdown",
   "metadata": {},
   "source": [
    "### Decoder (DNA to Text)\n"
   ]
  },
  {
   "cell_type": "code",
   "execution_count": 5,
   "metadata": {},
   "outputs": [
    {
     "name": "stdout",
     "output_type": "stream",
     "text": [
      "When in the Course of human events, it becomes necessary for one people to dissolve the political bands which have connected them with another, and to assume among the powers of the earth, the separate and equal station to which the Laws of Nature and of Nature's God entitle them, a decent respect to the opinions of mankind requires that they should declare the causes which impel them to the separation.\n"
     ]
    }
   ],
   "source": [
    "\n",
    "def matrix_to_binary(matrix_positions):\n",
    "    '''\n",
    "    Function to convert matrix to binary\n",
    "\n",
    "    Inputs:\n",
    "      matrix_positions (list): your matrix positions\n",
    "\n",
    "    Returns:\n",
    "      bin_text (string): binary representation of the text\n",
    "    ''' \n",
    "    binary_data = []\n",
    "    for row, col in matrix_positions:\n",
    "        binary_data.append(format(row, '01b'))  # to convert row back to 1-bit\n",
    "        binary_data.append(format(col, '01b'))  # to convert column back to 1-bit\n",
    "    bit_text = ''.join(binary_data)\n",
    "    return bit_text\n",
    "\n",
    "def binary_to_text(binary):\n",
    "    '''\n",
    "    Function to convert binary string back into characters where every 8 bits form one character (from ascii)\n",
    "    Ref: https://www.ibm.com/docs/en/informix-servers/14.10?topic=locale-code-sets-character-data\n",
    "\n",
    "    Inputs:\n",
    "      binary (string): the binary representation\n",
    "\n",
    "    Returns:\n",
    "      characters (string): the characters decoded\n",
    "    ''' \n",
    "    text = []\n",
    "    for i in range(0, len(binary), 8):\n",
    "        text.append(chr(int(binary[i:i + 8], 2)))\n",
    "    characters = ''.join(text)\n",
    "    return characters\n",
    "\n",
    "def decode_dna_to_text(dna_sequence):\n",
    "    '''\n",
    "    Function to decode the dna sequence into text\n",
    "\n",
    "    Inputs:\n",
    "      dna_sequence (string): your dna sequence\n",
    "\n",
    "    Returns:\n",
    "      characters (string): the characters decoded\n",
    "    ''' \n",
    "    # split the DNA sequence into components of 3 (each set of 3 bases is a matrix position)\n",
    "    dna_chunks = [dna_sequence[i:i+3] for i in range(0, len(dna_sequence), 3)]\n",
    "    \n",
    "    # DNA seq back to matrix positions\n",
    "    matrix_positions = [dna_to_matrix[chunk] for chunk in dna_chunks]\n",
    "\n",
    "    # convert to original text\n",
    "    binary_data = matrix_to_binary(matrix_positions)\n",
    "    out_text = binary_to_text(binary_data)\n",
    "    return out_text\n",
    "\n",
    "decoded_text = decode_dna_to_text(encoded_dna)\n",
    "print(decoded_text)\n"
   ]
  },
  {
   "cell_type": "code",
   "execution_count": 6,
   "metadata": {},
   "outputs": [
    {
     "name": "stdout",
     "output_type": "stream",
     "text": [
      "The texts are identical.\n"
     ]
    }
   ],
   "source": [
    "# Compare the two texts:\n",
    "if original_text == decoded_text:\n",
    "    print(\"The texts are identical.\")\n",
    "else:\n",
    "    print(\"The texts are NOT identical.\")\n",
    "\n"
   ]
  },
  {
   "cell_type": "code",
   "execution_count": 7,
   "metadata": {},
   "outputs": [
    {
     "name": "stdout",
     "output_type": "stream",
     "text": [
      "TGCACGGTTACGTGCCTATGCTGCTGCGTTTGCACGACGCTAACGACGTGCCTACTAGTTTGCCTAGTTCTATGCCTAGTTGTTTGCGTTTGCGTTTGCCTAGTTACGTGCCTATGCTGCTGCCTATGCACGTGCCTATGCGTTTGCCTATGCTGCACGCTAACGACGTGCCTATGCGTTTGCGTTACGCTATGCCTAGTTGTTTGCGTTTGCGTTACGCTAACGACGTGCCTATGCCTATGCGTTACGCTATGCCTAGTTGTTTGCCTAGTTTGCACGCTAACGACGTGCCTAGTTTGCTGCCTAGTTGTTTGCGTTACGCTATGCCTATGCTGCACGCTAACGACGTGCGTTTGCACGTGCCTAGTTGTTACGCTAACGACGTGCCTAGTTTGCTGCCTAGTTGTTTGCGTTACGCTATGCCTATGCTGCACGGTTCTAGTTACGCTAACGACGTGCCTAACGTGCTGCCTAGTTCTATGCCTATGCACGACGCTAACGACGTGCGTTACGGTTTGCCTAGTTGTTACGCTAACGACGTGCCTAACGCTATGCCTATGCTGCACGCTAACGACGTGCCTACTAACGTGCGTTTGCTGCTGCCTAGTTTGCTGCCTAACGTGCTGCCTAGTTCTAACGCTAACGACGTGCCTAGTTACGTGCCTACTATGCTGCCTATGCCTATGCCTATGCTGCACGCTAACGACGTGCCTATGCTGCTGCCTAGTTCTATGCGTTACGCTATGCCTACTATGCTGCCTAACGGTTTGCCTACTAACGTGCCTATGCTGCTGCCTATGCACGACGCTAGTTCTA\n"
     ]
    }
   ],
   "source": [
    "new_text = \"Let knowledge grow from more to more; and so be human life enriched.\"\n",
    "new_enc = encode_text_to_dna(new_text)\n",
    "print(new_enc)"
   ]
  },
  {
   "cell_type": "markdown",
   "metadata": {},
   "source": [
    "References:\n",
    "- Rise of DNA Data Storage: https://www.wired.com/story/the-rise-of-dna-data-storage/\n",
    "- Synthetic DNA Storage Milestone: https://blogs.microsoft.com/ai/synthetic-dna-storage-milestone/\n",
    "- Matrix representations of DNA: https://pubs.rsc.org/en/content/articlelanding/2015/sc/c4sc02930e\n",
    "- Multidimensional representations of DNA: https://www.nature.com/articles/s41565-023-01348-9\n",
    "- ASCII representation: https://www.ibm.com/docs/en/informix-servers/14.10?topic=locale-code-sets-character-data"
   ]
  },
  {
   "cell_type": "code",
   "execution_count": null,
   "metadata": {},
   "outputs": [],
   "source": []
  }
 ],
 "metadata": {
  "kernelspec": {
   "display_name": "Python 3 (ipykernel)",
   "language": "python",
   "name": "python3"
  },
  "language_info": {
   "codemirror_mode": {
    "name": "ipython",
    "version": 3
   },
   "file_extension": ".py",
   "mimetype": "text/x-python",
   "name": "python",
   "nbconvert_exporter": "python",
   "pygments_lexer": "ipython3",
   "version": "3.13.0"
  }
 },
 "nbformat": 4,
 "nbformat_minor": 4
}
