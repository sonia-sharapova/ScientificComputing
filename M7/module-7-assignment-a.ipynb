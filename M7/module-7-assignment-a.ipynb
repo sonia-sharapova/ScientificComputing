{
 "cells": [
  {
   "attachments": {},
   "cell_type": "markdown",
   "metadata": {},
   "source": [
    "# MPCS56430 Assignment 7 - Notebook A\n",
    "\n",
    "\n",
    "## Problem 1. Sequence 1 Analysis\n",
    "---\n",
    "\n",
    "Use the [NCBI BLAST webservice](https://www.ncbi.nlm.nih.gov) to answer the following questions about this sequence. Make sure that you select *Nucleotide* Blast.\n",
    "\n",
    "```\n",
    ">Sequence1\n",
    "AACAATTCATTTTTCCTGCTTTCCTAGAAAATTCTATAAAAGCTTCAAAA\n",
    "TGAATTACTTGGTGATGATTAGTTTGGCACTTCTCTTCGTGACAGGTGTA\n",
    "GAGAGTGTAAAAGACGGTTATATTGTCGACGATGTAAACTGCACATACTT\n",
    "TTGTGGTAGAAATGCATACTGCAACGAGGAATGTACCAAGTTGAAAGGTG\n",
    "AGAGTGGTTATTGCCAATGGGCAAGTCCATATGGAAACGCCTGTTATTGC\n",
    "TATAAATTGCCCGATCATGTACGTACTAAAGGACCAGGAAGATGCCATGG\n",
    "CCGATAAATTATAAGATGGAATGTATCCTAAGTATCAATGTTAAATAAAT\n",
    "ATAATCAAAAAATT\n",
    "```"
   ]
  },
  {
   "cell_type": "markdown",
   "metadata": {},
   "source": [
    "A. What is the length of the query sequence?"
   ]
  },
  {
   "cell_type": "markdown",
   "metadata": {},
   "source": [
    "#### Answer"
   ]
  },
  {
   "cell_type": "markdown",
   "metadata": {},
   "source": [
    "**Sequence length:** 364\n",
    "\n",
    "from: https://blast.ncbi.nlm.nih.gov/Blast.cgi\n"
   ]
  },
  {
   "attachments": {},
   "cell_type": "markdown",
   "metadata": {},
   "source": [
    "B. What is the most likely function encoded by this sequence? You can infer this by looking at the most similar sequences from the BLAST results. The header of the sequences should provide this information."
   ]
  },
  {
   "cell_type": "markdown",
   "metadata": {},
   "source": [
    "#### Answer"
   ]
  },
  {
   "cell_type": "markdown",
   "metadata": {},
   "source": [
    "The most likely function encoded by this sequence is a neurotoxin, specifically mammalian neurotoxin II, which is involved in the venom of the scorpion Androctonus australis.\n",
    "\n",
    "The top hit for this sequence is:\n",
    "> A. australis (scorpion) mammalian neurotoxin II (AaH II) mRNA, complete cds.\n",
    "\n",
    "The low E-values for this matche (0.0) indicates strong statistical significance, meaning these alignments are highly likely to represent true homology rather than chance similarity.\n",
    "\n",
    "The other significant alignments in your results also match sequences encoding neurotoxins from scorpions, which further supports this inference.\n",
    "\n",
    "So the most likely function encoded by this sequence is a neurotoxin, specifically mammalian neurotoxin II, which is involved in the venom of the scorpion Androctonus australis.\n",
    "\n",
    "- https://www.ncbi.nlm.nih.gov/Taxonomy/Browser/wwwtax.cgi?id=6858\n"
   ]
  },
  {
   "cell_type": "markdown",
   "metadata": {},
   "source": [
    "<img src=\"./images/scorpion.png\" width=\"700\"/>\n"
   ]
  },
  {
   "attachments": {},
   "cell_type": "markdown",
   "metadata": {},
   "source": [
    "## Problem 2. Sequence 2 Analysis\n",
    "--- \n",
    "\n",
    "Use the NCBI BLAST webservice to answer the following questions about this sequence.\n",
    "```\n",
    ">Sequence2\n",
    "CTAATAATCCTTGGAATACTCCTATATTTTGTATAAAGAAGAAATCAGGG\n",
    "AAATGGAGAATGCTAATTGATTTTAGAGAACTTAATGCAAAAACAGAAAA\n",
    "AGGAGCAGAAGTCCAATTAGGATTACCTCACCCATCTGGATTACAGAAGA\n",
    "GAAAGAATGTAACAGTTTTAGATATAGGAGATGCTTATTTTACCATCCCT\n",
    "TTAGATCCTGATTATCAGCCCTATACTGCATTTACTTTACCATCTAAGAA\n",
    "TAATCAAAGTCCAGGAAAAAGGTATATTTGGAAATCTCTTCCACAGGGGT\n",
    "GGGTCTTGAGTCCCTTAATATACCAGAGCACTCTAGATAATATTCTACAA\n",
    "CCATTTAGAA\n",
    "```"
   ]
  },
  {
   "cell_type": "markdown",
   "metadata": {},
   "source": [
    "A. What organism is the most likely source of the sequence? "
   ]
  },
  {
   "cell_type": "markdown",
   "metadata": {},
   "source": [
    "**Feline**: The most likely source of the sequence is the Feline immunodeficiency virus (FIV), so the organism is most likely a feline."
   ]
  },
  {
   "attachments": {},
   "cell_type": "markdown",
   "metadata": {},
   "source": [
    "B. What is the translation of this sequence into protein? (You can compute this, or find it using BLAST results report.)"
   ]
  },
  {
   "cell_type": "markdown",
   "metadata": {},
   "source": [
    ">CDS             <1..>479\n",
    ">                     /gene=\"pol\" <br>\n",
    ">                     /codon_start=3 <br>\n",
    ">                     /product=\"pol polyprotein\" <br>\n",
    ">                     /protein_id=\"AAB18859.1\" <br>\n",
    ">                     /translation=\"NNPWNTPIFCIKKKSGKWRMLIDFRELNAKTEKGAEVQLGLPHP\n",
    ">                     SGLQKRKNVTVLDIGDAYFTIPLDPDYQPYTAFTLPSKNNQSPGKRYIWKSLPQGWVL\n",
    ">                     SPLIYQSTLDNILQPFRKRYEKQIDIYQYMDDIYIGSDKEIKQHRKIVQELRDLLLW\""
   ]
  },
  {
   "cell_type": "code",
   "execution_count": 7,
   "metadata": {},
   "outputs": [
    {
     "name": "stdout",
     "output_type": "stream",
     "text": [
      "NNPWNTPIFCIKKKSGKWRMLIDFRELNAKTEKGAEVQLGLPHPSGLQKRKNVTVLDIGDAYFTIPLDPDYQPYTAFTLPSKNNQSPGKRYIWKSLPQGWVLSPLIYQSTLDNILQPFR\n"
     ]
    }
   ],
   "source": [
    "from Bio.Seq import Seq\n",
    "\n",
    "# Input nucleotide sequence (without the header)\n",
    "nucleotide_sequence = \"\"\"CTAATAATCCTTGGAATACTCCTATATTTTGTATAAAGAAGAAATCAGGG\n",
    "AAATGGAGAATGCTAATTGATTTTAGAGAACTTAATGCAAAAACAGAAAA\n",
    "AGGAGCAGAAGTCCAATTAGGATTACCTCACCCATCTGGATTACAGAAGA\n",
    "GAAAGAATGTAACAGTTTTAGATATAGGAGATGCTTATTTTACCATCCCT\n",
    "TTAGATCCTGATTATCAGCCCTATACTGCATTTACTTTACCATCTAAGAA\n",
    "TAATCAAAGTCCAGGAAAAAGGTATATTTGGAAATCTCTTCCACAGGGGT\n",
    "GGGTCTTGAGTCCCTTAATATACCAGAGCACTCTAGATAATATTCTACAA\n",
    "CCATTTAGAA\"\"\"\n",
    "\n",
    "# Remove any whitespace or newlines\n",
    "nucleotide_sequence = \"\".join(nucleotide_sequence.split())\n",
    "\n",
    "# Create a DNA sequence object\n",
    "dna_seq = Seq(nucleotide_sequence)\n",
    "\n",
    "# Translate with a specific codon start (frame 3)\n",
    "protein_sequence = dna_seq[2:].translate()\n",
    "print(protein_sequence)\n"
   ]
  },
  {
   "cell_type": "markdown",
   "metadata": {},
   "source": [
    "Matches :)"
   ]
  },
  {
   "cell_type": "markdown",
   "metadata": {},
   "source": [
    "<img src=\"./images/fiv.png\" width=\"700\"/>\n"
   ]
  },
  {
   "attachments": {},
   "cell_type": "markdown",
   "metadata": {},
   "source": [
    "## Problem 3. Sequence 3 Analysis\n",
    "---\n",
    "\n",
    "Use the NCBI BLAST webservice to answer the questions about the following sequence.\n",
    "```\n",
    ">Sequence3\n",
    "TCTTGGTGAGGATCCGTTGAGAACAACCCAACCGCCGCCCCATCGCCCTN\n",
    "GTTAGANTNATGGCCGCGTCGGCGCTGCACCAGACCACCAGCTTCCTCNG\n",
    "CACCGCCCCTCGCCGGGATGAGCTCGTCCGCCGCGTCGGCGACTCCGGTG\n",
    "GCCGCATCACCATGCGCCGCACCGTCAAGAGCGCGCCCCAGAGCATCTGG\n",
    "TATGGACCTGACCGTCCCAAGTNCCTGGGCCCGTTCTCGGAGCAGACGCC\n",
    "ATCGTACCTGACCGGAGAGTTCCCGGGAGACTACGGGTGGGACACGGCGG\n",
    "GGCTATCGGCCGACCCGGANACGTTCGCTATGAACAGGGAGCTGGANGTG\n",
    "ATCCACTCNCGGTGGGCGATGCTGGGGGCGCTGGGCTGCGTCTTCCCGGA\n",
    "GATCCTGTCCAANAACGGGG\n",
    "````"
   ]
  },
  {
   "cell_type": "markdown",
   "metadata": {},
   "source": [
    "A. What organism is the source of the sequence? "
   ]
  },
  {
   "cell_type": "markdown",
   "metadata": {},
   "source": [
    "Top alignments show that the sequence matches multiple entries for Oryza species.\n",
    "\n",
    "Specific cultivars include:\n",
    "- Oryza sativa indica cultivar-group\n",
    "- Oryza sativa Japonica Group \n",
    "- Oryza glaberrima \n",
    "- Oryza rufipogon.\n",
    "\n",
    "**The source organism is Oryza sativa**\n",
    "\n",
    "- https://www.ncbi.nlm.nih.gov/Taxonomy/Browser/wwwtax.cgi?id=39946"
   ]
  },
  {
   "cell_type": "markdown",
   "metadata": {},
   "source": [
    "B. What is the common name for this organism? "
   ]
  },
  {
   "cell_type": "markdown",
   "metadata": {},
   "source": [
    "**Oryza is commonly known as rice** (different sorts)"
   ]
  },
  {
   "attachments": {},
   "cell_type": "markdown",
   "metadata": {},
   "source": [
    "C. What is the percent identity of the best (non-modelled) matching sequence in the results? Percent identity is one of the columns kn the results list."
   ]
  },
  {
   "cell_type": "markdown",
   "metadata": {},
   "source": [
    "**From the BLAST results, the percent identity of the best matching sequence is 96.73%.**"
   ]
  },
  {
   "cell_type": "markdown",
   "metadata": {},
   "source": [
    "<img src=\"./images/oryza.png\" width=\"700\"/>\n"
   ]
  },
  {
   "attachments": {},
   "cell_type": "markdown",
   "metadata": {},
   "source": [
    "##  Problem 4\n",
    "\n",
    "----\n",
    "\n",
    "Protein searches are usually more informative than DNA searches because amino acids provide more insight into the functionality of the gene. Using the NCBI webservice, conduct a [*blastp*](https://blast.ncbi.nlm.nih.gov/Blast.cgi?PAGE=Proteins)(protein blast) search using RBP4 (NP_006735). Next, do a [*blastn*](https://blast.ncbi.nlm.nih.gov/Blast.cgi?PROGRAM=blastn&PAGE_TYPE=BlastSearch&BLAST_SPEC=&LINK_LOC=blasttab&LAST_PAGE=blastp)(nucleotide blast)  search using the RBP4 nucleotide sequence (NM_006744).\n",
    "\n",
    " _To make the results easier to parse, restrict the output to Arthropoda (insects), but be consistent for both searches._\n",
    " \n",
    "<img src=\"assets/2023-11-09-23-30-53.png\" width=\"500\"/>\n",
    "\n",
    "\n",
    "## Nucleotide Sequence\n",
    "\n",
    "```\n",
    ">NM_006744.4 Homo sapiens retinol binding protein 4 (RBP4), transcript variant 1, mRNA\n",
    "GCCTCCCTCGCTCCACGCGCGCCCGGACTCGGCGGCCAGGCTTGCGCGCGGTTCCCCTCCCGGTGGGCGG\n",
    "ATTCCTGGGCAAGATGAAGTGGGTGTGGGCGCTCTTGCTGTTGGCGGCGCTGGGCAGCGGCCGCGCGGAG\n",
    "CGCGACTGCCGAGTGAGCAGCTTCCGAGTCAAGGAGAACTTCGACAAGGCTCGCTTCTCTGGGACCTGGT\n",
    "ACGCCATGGCCAAGAAGGACCCCGAGGGCCTCTTTCTGCAGGACAACATCGTCGCGGAGTTCTCCGTGGA\n",
    "CGAGACCGGCCAGATGAGCGCCACAGCCAAGGGCCGAGTCCGTCTTTTGAATAACTGGGACGTGTGCGCA\n",
    "GACATGGTGGGCACCTTCACAGACACCGAGGACCCTGCCAAGTTCAAGATGAAGTACTGGGGCGTAGCCT\n",
    "CCTTTCTCCAGAAAGGAAATGATGACCACTGGATCGTCGACACAGACTACGACACGTATGCCGTGCAGTA\n",
    "CTCCTGCCGCCTCCTGAACCTCGATGGCACCTGTGCTGACAGCTACTCCTTCGTGTTTTCCCGGGACCCC\n",
    "AACGGCCTGCCCCCAGAAGCGCAGAAGATTGTAAGGCAGCGGCAGGAGGAGCTGTGCCTGGCCAGGCAGT\n",
    "ACAGGCTGATCGTCCACAACGGTTACTGCGATGGCAGATCAGAAAGAAACCTTTTGTAGCAATATCAAGA\n",
    "ATCTAGTTTCATCTGAGAACTTCTGATTAGCTCTCAGTCTTCAGCTCTATTTATCTTAGGAGTTTAATTT\n",
    "GCCCTTCTCTCCCCATCTTCCCTCAGTTCCCATAAAACCTTCATTACACATAAAGATACACGTGGGGGTC\n",
    "AGTGAATCTGCTTGCCTTTCCTGAAAGTTTCTGGGGCTTAAGATTCCAGACTCTGATTCATTAAACTATA\n",
    "GTCACCCGTGTCCTGTGATTTTAGTTTTCATTTGTGTTTATGTCTGTGCTGCAGACGGATGGGTGGGGTG\n",
    "CGCTTCTTTATACCAGGAGCACGTGGCTCTTTCTGACCTTTGGCCTGTTCTAGTGCCTAATCTCCATTAT\n",
    "TAAATACTGGCTTCTCCCAA\n",
    "```\n",
    "\n",
    "## Protein Sequence \n",
    "\n",
    "```\n",
    ">NP_006735.2 retinol-binding protein 4 isoform a precursor [Homo sapiens]\n",
    "MKWVWALLLLAALGSGRAERDCRVSSFRVKENFDKARFSGTWYAMAKKDPEGLFLQDNIVAEFSVDETGQ\n",
    "MSATAKGRVRLLNNWDVCADMVGTFTDTEDPAKFKMKYWGVASFLQKGNDDHWIVDTDYDTYAVQYSCRL\n",
    "LNLDGTCADSYSFVFSRDPNGLPPEAQKIVRQRQEELCLARQYRLIVHNGYCDGRSERNLL\n",
    "```"
   ]
  },
  {
   "cell_type": "markdown",
   "metadata": {},
   "source": [
    "Results:\n",
    "\n",
    "Protein sequence:\\\n",
    "<img src=\"./images/prot.png\" width=\"500\"/>\n",
    "\n",
    "Neucleotide:\n",
    "> Gave no significant results\\\n",
    "<img src=\"./images/nblast.png\" width=\"300\"/>\n"
   ]
  },
  {
   "attachments": {},
   "cell_type": "markdown",
   "metadata": {},
   "source": [
    "A. How many databases matches have an E-value less than 1.0 in each search? "
   ]
  },
  {
   "cell_type": "markdown",
   "metadata": {
    "collapsed": true,
    "jupyter": {
     "outputs_hidden": true
    }
   },
   "source": [
    "All I believe..."
   ]
  },
  {
   "attachments": {},
   "cell_type": "markdown",
   "metadata": {},
   "source": [
    "B. Which search is more informative? Why?"
   ]
  },
  {
   "cell_type": "markdown",
   "metadata": {},
   "source": [
    "The protein search is more informative likely due to protein sequences being more highly conserved across species than nucleotide sequences. Similar proteins in different organisms often retain functional similarity even when their underlying nucleotide sequences have diverged due to synonymous mutations or other sequence-level variations. Amino acid properties in proteins also reflect the biochemical and structural properties of the gene product which provide insight into function. Protein BLAST aligns sequences based on these functional similarities and this information cannot be directly inferred from nucleotide sequences. "
   ]
  },
  {
   "attachments": {},
   "cell_type": "markdown",
   "metadata": {},
   "source": [
    "## Problem 5\n",
    "----\n"
   ]
  },
  {
   "attachments": {},
   "cell_type": "markdown",
   "metadata": {},
   "source": [
    "In the limit of sufficiently large sequence lengths $m$ and $n$, the statistics of HSP scores are characterized by two parameters, $K$ and $\\lambda$.  Most simply, the expected number of HSPs with score at least S is given by the formula:\n",
    "\n",
    "$$ E = Kmn\\ e^{S\\lambda} $$\n",
    "\n",
    "We call this the E-value for the score S. \n",
    "\n",
    "This formula makes eminently intuitive sense. Doubling the length of either sequence ($m$ or $n$) should double the number of HSPs attaining a given score. Also, for an HSP to attain the score 2x it must attain the score x twice in a row, so one expects E to decrease exponentially with score. \n",
    "\n",
    "The parameters K and lambda can be thought of simply as natural scales for the search space size (database size) and the matrix scoring system respectively."
   ]
  },
  {
   "attachments": {},
   "cell_type": "markdown",
   "metadata": {},
   "source": [
    "Given everything else constant, how would you expect the E-value to change if we double the length of our query sequence, $m$?"
   ]
  },
  {
   "cell_type": "markdown",
   "metadata": {},
   "source": [
    "**Breakdown:**\n",
    "\n",
    "$ E = Kmn e^{S\\lambda} $\n",
    "\n",
    "where:\n",
    "\n",
    "- $E$: Expected number of HSPs with a score $S$ or higher (E-value).\n",
    "- $K$: A scaling factor that reflects the search space size and influences the number of matches.\n",
    "- $\\lambda$: A parameter related to the scoring system that determines how the scores decay exponentially.\n",
    "- $m$: Length of the query sequence.\n",
    "- $n$: Length of the target database or sequence being searched.\n",
    "- $S$: Alignment score.\n",
    "\n",
    "The E value represents the number of alignments you expect to occur by random chance in the given search space, with scores $\\geq S$. A smaller E-value implies a more significant alignment, indicating the alignment is less likely to have occurred by chance.\n",
    "\n",
    "\n",
    "Doubling $m$ doubles the total search space, which doubles the expected number of HSPs. A longer query sequence increases the number of possible alignments because each additional position provides more opportunities for random matches. This means that doubling $m$ doubles the expected number of random alignments.\n",
    "\n"
   ]
  },
  {
   "attachments": {},
   "cell_type": "markdown",
   "metadata": {},
   "source": [
    "**Question**: Given everything else constant, how would you expect the E-value to change if we cut the size of our databas, $K$, in half?"
   ]
  },
  {
   "cell_type": "markdown",
   "metadata": {
    "collapsed": true,
    "jupyter": {
     "outputs_hidden": true
    }
   },
   "source": [
    "If we cut the size of the database,$K$, in half while keeping everything else constant, the E-value, $E$, would also decrease proportionally by half."
   ]
  },
  {
   "cell_type": "markdown",
   "metadata": {},
   "source": [
    "- $K$ represents a scaling factor reflecting the search space size and alignment parameters.\n",
    "- $m, n, \\lambda,$ and $S$ are constants in this case.\n",
    "\n",
    "If $K$ is halved $K \\to K/2$, the new E-value becomes:\n",
    "\n",
    "$E_{\\text{new}} = \\frac{K}{2}mn\\ e^{-\\lambda S} = \\frac{E}{2}$\n",
    "\n",
    "- The parameter $K$ is proportional to the database size. Reducing the database size by half decreases the likelihood of finding a match purely by random chance, which halves the expected number of random alignments (E-value).\n",
    "\n",
    "If $K$ is halved, the E-value $E$ is halved as well. This reflects the reduced chance of finding random alignments due to the smaller search space."
   ]
  },
  {
   "attachments": {},
   "cell_type": "markdown",
   "metadata": {},
   "source": [
    "## Problem 6. Blast Optimization\n",
    "-----\n",
    "\n",
    "_Note: This problem will require you to have a local version on BLAST installed. Please refer to the `0 - Environment Setup`, `1 - BLASTP Workbook`, and `2 - BLASTN Workbook`._\n",
    "\n",
    "One of the paramters for BLAST, `-num_threads`, allows you to vary the number of threads used by the application. The default value is set to `1`. Using your locally installed version of BLAST, conduct a series of runs to determine the optimal number of threads to run on a single node.  \n",
    "\n",
    "Conduct a BLASTP search against the [pdbaa](https://ftp.ncbi.nlm.nih.gov/blast/db/FASTA) and [swissprot](https://ftp.ncbi.nlm.nih.gov/blast/db/FASTA). You will need to download the databases as FASTA files and convert them to a BLAST compatible database format. \n",
    "\n",
    "Conduct multiple runs and vary the number of cpus per node to 1, 2, 4, 8, 16, and 32 using the `-num_threads` parameter. \n",
    "\n",
    "Perform this experiment for the following sequences (ndm1.fasta, spike.fasta, protein1.fasta) and make note of the runtime. The runtime is available in the BLAST output or simply launch the jobs with the UNIX `time` command (seen below).\n",
    "\n",
    "```\n",
    "# Vary the number of thread BLAST uses and use the time command to measure the runtime\n",
    "time blastp -query sequence -db db  -num_threads 1 -out outfile\n",
    "time blastp -query sequence -db db  -num_threads 2 -out outfile\n",
    "time blastp -query sequence -db db  -num_threads 4 -out outfile\n",
    "...\n",
    "```\n",
    "\n",
    "Complete the following table and Use `matplotlib` to plot the runtime versus the number threads for each sequence."
   ]
  },
  {
   "attachments": {},
   "cell_type": "markdown",
   "metadata": {},
   "source": [
    "|             | db | 1 | 2 | 4 | 6 | 8 | 16 | 32 |\n",
    "| ---         | ---  | --- | --- | --- |--- | --- | --- | --- |\n",
    "| Seqeuence 1 | pdbaa  |  ? | ? | ? | ?  | ? | ? |? |\n",
    "| Sequence 2  | pdbaa   |  ? | ? | ? | ?  | ? | ? |? |\n",
    "| Sequence 3  | pdbaa   |  ? | ? | ? | ?  | ? | ? |? |\n",
    "| Seqeuence 1 | swissprot  |  ? | ? | ? | ?  | ? | ? |? |\n",
    "| Sequence 2  | swissprot   |  ? | ? | ? | ?  | ? | ? |? |\n",
    "| Sequence 3  | swissprot   |  ? | ? | ? | ?  | ? | ? |? |"
   ]
  },
  {
   "cell_type": "markdown",
   "metadata": {},
   "source": [
    "|             | db | 1 | 2 | 4 | 6 | 8 | 16 | 32 |\n",
    "| ---         | ---  | --- | --- | --- |--- | --- | --- | --- |\n",
    "| ndm1 | pdbaa  |  1.34 | 0.91 | 0.73 | 0.56  | 0.57 | 0.56 |1.85 |\n",
    "| spike  | pdbaa   |  2.87 | 2.06 | 1.29 | 1.47  | 1.17 | 1.15 |1.17 |\n",
    "| protein1  | pdbaa   |  1.39 | 1.08 | 0.73 | 0.66  | 0.63 | 0.7 |0.65 |\n",
    "| ndm1 | swissprot  |  3.29 | 2.02 | 1.26 | 1.25  | 1.25 | 1.21 |1.26 |\n",
    "| spike  | swissprot   |  9.16 | 5.04 | 4.05 | 2.98  | 2.86 | 2.88 |2.91 |\n",
    "| protein1  | swissprot   |  4.89 | 2.93 | 1.84 | 1.84  | 1.77 | 1.75 |1.73 |"
   ]
  },
  {
   "cell_type": "markdown",
   "metadata": {},
   "source": [
    "<img src=\"./plots/all_runtime.png\" width=\"500\"/>\n"
   ]
  },
  {
   "cell_type": "markdown",
   "metadata": {},
   "source": [
    "What do the results suggest would be the optimal number of threads to use on a single core to minimize the run time?  "
   ]
  },
  {
   "cell_type": "markdown",
   "metadata": {},
   "source": [
    "**For pdbaa**:\n",
    "\n",
    "Optimal runtime is generally achieved with 8 or 16 threads, as runtime decreases or plateaus at these thread counts.\n",
    "\n",
    "**For swissprot**:\n",
    "\n",
    "Optimal runtime is generally observed with 16 threads.\n",
    "\n",
    "> **Conclusion**:\n",
    "> The optimal number of threads is likely 8 to 16 for these databases and sequences. However, beyond 16 threads, performance often plateaus or worsens. This implies that blast is multithreaded but not very well in terms of the total performance time.\n",
    "\n"
   ]
  },
  {
   "attachments": {},
   "cell_type": "markdown",
   "metadata": {},
   "source": [
    "Can you suggest or find reasons to explain the observed behavior? "
   ]
  },
  {
   "cell_type": "markdown",
   "metadata": {},
   "source": [
    "**Threading Overhead**: Beyond a certain number of threads, the overhead of managing additional threads outweighs the performance gains, especially on single-core systems. This can lead to increased runtime at higher thread counts.\n",
    "\n",
    "**Database Size and Access Time**: Smaller databases like pdbaa may be more efficient to query, whereas larger databases like swissprot have more entries, leading to longer query times and potentially better performance scaling with increased threads due to parallelism.\n",
    "\n",
    "**Sequence Complexity**: Sequences with higher complexity or larger sizes may scale differently due to varying computational demands during alignment.\n"
   ]
  },
  {
   "attachments": {},
   "cell_type": "markdown",
   "metadata": {},
   "source": [
    "\n",
    "\n",
    "**Question**: What is the size difference between PDB and Swissprot? The NCBI `nr` database is 83G. Do you think using this database would change your results?"
   ]
  },
  {
   "cell_type": "markdown",
   "metadata": {},
   "source": [
    "Pdbaa is a smaller database containing only protein data from the Protein Data Bank (PDB). swissprot is larger, containing manually curated protein sequences. The NCBI nr database is significantly larger than both pdbaa and swissprot and includes all non-redundant protein sequences. It would likely result in longer runtimes due to increased query and alignment complexity and greater thread scaling potential due to the computational workload being much larger. This would significantly increase query and alignment times, and the computational demand would better utilize higher thread counts, leading to better performance with parallelization. "
   ]
  }
 ],
 "metadata": {
  "anaconda-cloud": {},
  "kernelspec": {
   "display_name": "Python 3 (ipykernel)",
   "language": "python",
   "name": "python3"
  },
  "language_info": {
   "codemirror_mode": {
    "name": "ipython",
    "version": 3
   },
   "file_extension": ".py",
   "mimetype": "text/x-python",
   "name": "python",
   "nbconvert_exporter": "python",
   "pygments_lexer": "ipython3",
   "version": "3.12.7"
  }
 },
 "nbformat": 4,
 "nbformat_minor": 4
}
